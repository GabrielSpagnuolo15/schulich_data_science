{
 "cells": [
  {
   "cell_type": "code",
   "execution_count": 1,
   "metadata": {},
   "outputs": [],
   "source": [
    "import requests as r\n",
    "import csv"
   ]
  },
  {
   "cell_type": "code",
   "execution_count": 2,
   "metadata": {},
   "outputs": [],
   "source": [
    "with open(r\"C:\\Users\\gabri\\Documents\\Google_API_Key.txt\", 'r') as file_1:\n",
    "    API_KEY = file_1.read()\n",
    "\n",
    "with open(r\"C:\\Users\\gabri\\Documents\\Engine_Key.txt\", 'r') as file_2:\n",
    "    Search_Engine_Key = file_2.read()"
   ]
  },
  {
   "cell_type": "code",
   "execution_count": 3,
   "metadata": {},
   "outputs": [],
   "source": [
    "search_query = 'global analysis of high net worth client products offered in banks'"
   ]
  },
  {
   "cell_type": "code",
   "execution_count": 4,
   "metadata": {},
   "outputs": [],
   "source": [
    "url = 'https://www.googleapis.com/customsearch/v1'\n",
    "params = {\n",
    "    'q' : search_query,\n",
    "    'key' : API_KEY,\n",
    "    'cx' : Search_Engine_Key,\n",
    "    #'searchType' : 'image',\n",
    "    'dateRestrict' : '2023-01-01:2024-02-20'\n",
    "    #'fileType' : 'pdf',\n",
    "    #'lr' : 'lang_en',\n",
    "    #'gl' : 'US'\n",
    "}"
   ]
  },
  {
   "cell_type": "code",
   "execution_count": 5,
   "metadata": {},
   "outputs": [
    {
     "name": "stdout",
     "output_type": "stream",
     "text": [
      "<Response [200]>\n"
     ]
    }
   ],
   "source": [
    "response = r.get(url, params=params)\n",
    "print(response)"
   ]
  },
  {
   "cell_type": "code",
   "execution_count": 6,
   "metadata": {},
   "outputs": [
    {
     "name": "stdout",
     "output_type": "stream",
     "text": [
      "[{'kind': 'customsearch#result', 'title': 'Trends in Global Wealth Management Industry – High Net Worth ...', 'htmlTitle': 'Trends in <b>Global</b> Wealth Management Industry – <b>High Net Worth</b> ...', 'link': 'https://www.capgemini.com/wp-content/uploads/2017/07/Trends_in_Global_Wealth_Management__A_Client_Perspective.pdf', 'displayLink': 'www.capgemini.com', 'snippet': 'Products and services demanded by. HNWIs are now much more sophisticated than those offered under normal banking services. Our analysis highlights important\\xa0...', 'htmlSnippet': '<b>Products</b> and services demanded by. HNWIs are now much more sophisticated than those <b>offered</b> under normal <b>banking</b> services. Our <b>analysis</b> highlights important&nbsp;...', 'cacheId': 'h1Ppz41GyTgJ', 'formattedUrl': 'https://www.capgemini.com/.../Trends_in_Global_Wealth_Management__...', 'htmlFormattedUrl': 'https://www.capgemini.com/.../Trends_in_<b>Global</b>_Wealth_Management__...', 'pagemap': {'cse_thumbnail': [{'src': 'https://encrypted-tbn0.gstatic.com/images?q=tbn:ANd9GcSWgTTb35RRyAYMpLYxQtdyzfOqUtd5Wb_U-hBUuDNbPv-Nz1DrbL-tT4--&s', 'width': '233', 'height': '216'}], 'metatags': [{'moddate': \"D:20120102104754+05'30'\", 'creationdate': \"D:20120102104738+05'30'\", 'creator': 'Adobe InDesign CS5 (7.0.4)', 'producer': 'Adobe PDF Library 9.9'}], 'cse_image': [{'src': 'x-raw-image:///518a1ebbb1109966c59c57fffa1b7ded2fc0a7d2b729eb4788b169ccecd5d636'}]}, 'mime': 'application/pdf', 'fileFormat': 'PDF/Adobe Acrobat'}, {'kind': 'customsearch#result', 'title': 'High-Net-Worth Individual (HNWI): Criteria and Example', 'htmlTitle': '<b>High</b>-<b>Net</b>-<b>Worth Individual</b> (HNWI): Criteria and Example', 'link': 'https://www.investopedia.com/terms/h/hnwi.asp', 'displayLink': 'www.investopedia.com', 'snippet': 'Private banking consists of personalized financial services and products offered to the high net worth individual (HNWI) clients of a bank or other financial\\xa0...', 'htmlSnippet': 'Private <b>banking</b> consists of personalized <b>financial</b> services and <b>products offered</b> to the <b>high net worth individual</b> (HNWI) <b>clients</b> of a <b>bank</b> or other <b>financial</b>&nbsp;...', 'cacheId': 'ousMqT6bCbQJ', 'formattedUrl': 'https://www.investopedia.com/terms/h/hnwi.asp', 'htmlFormattedUrl': 'https://www.investopedia.com/terms/h/hnwi.asp', 'pagemap': {'cse_thumbnail': [{'src': 'https://encrypted-tbn0.gstatic.com/images?q=tbn:ANd9GcT2HwAALS8xNVOSluu3RLVd24kmAVszQvFb0kgYNSMME3qK60SUFDDpNRQ&s', 'width': '275', 'height': '183'}], 'metatags': [{'og:image': 'https://www.investopedia.com/thmb/R2IDOn2LEjMiBNGTPyfsYG9IFQc=/1500x0/filters:no_upscale():max_bytes(150000):strip_icc()/Term-Definitions_High-net-worth-individual-d5dee7851eb14976b0d77edbe79b1c89.jpg', 'twitter:card': 'summary', 'msapplication-square70x70logo': '/static/2.30.0/icons/favicons/mstile-70x70.png', 'sailthru.tags': 'personal-finance,wealth', 'og:site_name': 'Investopedia', 'msapplication-wide310x150logo': '/static/2.30.0/icons/favicons/mstile-310x150.png', 'msapplication-tileimage': '/static/2.30.0/icons/favicons/mstile-144x144.png', 'og:description': '\"High-net-worth individual\" (HNWI) is a financial industry classification for a person with liquid assets above a certain figure. The minimum used is often $1 million.', 'twitter:image': 'https://www.investopedia.com/thmb/R2IDOn2LEjMiBNGTPyfsYG9IFQc=/1500x0/filters:no_upscale():max_bytes(150000):strip_icc()/Term-Definitions_High-net-worth-individual-d5dee7851eb14976b0d77edbe79b1c89.jpg', 'twitter:site': '@Investopedia', 'msapplication-square310x310logo': '/static/2.30.0/icons/favicons/mstile-310x310.png', 'emailcontenttype': 'TERMSC', 'parsely-section': 'Personal Finance', 'msapplication-tilecolor': '#F4F4F4', 'og:type': 'article', 'twitter:title': 'High-Net-Worth Individual (HNWI): Criteria and Example', 'emailvertical': 'INVESTOPEDIA', 'og:title': 'High-Net-Worth Individual (HNWI): Criteria and Example', 'msapplication-square150x150logo': '/static/2.30.0/icons/favicons/mstile-150x150.png', 'parsely-tags': 'Investopedia,Personal Finance,Wealth', 'fb:app_id': '659054097907801', 'viewport': 'width=device-width, initial-scale=1.0', 'twitter:description': '\"High-net-worth individual\" (HNWI) is a financial industry classification for a person with liquid assets above a certain figure. The minimum used is often $1 million.', 'og:url': 'https://www.investopedia.com/terms/h/hnwi.asp', 'sailthru.author': 'Adam Hayes'}], 'cse_image': [{'src': 'https://www.investopedia.com/thmb/R2IDOn2LEjMiBNGTPyfsYG9IFQc=/1500x0/filters:no_upscale():max_bytes(150000):strip_icc()/Term-Definitions_High-net-worth-individual-d5dee7851eb14976b0d77edbe79b1c89.jpg'}]}}, {'kind': 'customsearch#result', 'title': 'Businesses and customers | HSBC Holdings plc', 'htmlTitle': 'Businesses and <b>customers</b> | HSBC Holdings plc', 'link': 'https://www.hsbc.com/who-we-are/businesses-and-customers', 'displayLink': 'www.hsbc.com', 'snippet': '... Banking, and Global Banking and ... global businesses and the products and services they offer. ... customers to ultra-high net-worth individuals and their families\\xa0...', 'htmlSnippet': '... <b>Banking</b>, and <b>Global Banking</b> and ... <b>global</b> businesses and the <b>products</b> and services they <b>offer</b>. ... <b>customers</b> to ultra-<b>high net</b>-<b>worth</b> individuals and their families&nbsp;...', 'cacheId': 'pF9or7J9GUQJ', 'formattedUrl': 'https://www.hsbc.com/who-we-are/businesses-and-customers', 'htmlFormattedUrl': 'https://www.hsbc.com/who-we-are/businesses-and-customers', 'pagemap': {'cse_thumbnail': [{'src': 'https://encrypted-tbn0.gstatic.com/images?q=tbn:ANd9GcS_yj17AUWRNOqFx5gVxFkhyZ-cbReorzH4rtNDtoHm4DQmNk6eD0FZIknE&s', 'width': '300', 'height': '168'}], 'organization': [{'sameas': 'Visit X (opens in new window)'}], 'metatags': [{'og:image': 'https://www.hsbc.com/-/files/hsbc/who-we-are/our-businesses/og-images/240315-our-businesses-and-customers-560x315.jpg?as=0&dmc=0&iar=0&thn=0&udi=0&hash=0998687FDC51518C416DB0123D05017E', 'og:type': 'website', 'twitter:card': 'summary_large_image', 'og:site_name': 'HSBC', 'viewport': 'width=device-width, initial-scale=1.0', 'og:title': 'Businesses and customers | HSBC Holdings plc', 'og:url': 'https://www.hsbc.com/who-we-are/businesses-and-customers', 'og:description': 'Read more about HSBC’s international network and three global businesses - Wealth and Personal Banking, Commercial Banking, and Global Banking and Markets.', 'facebook-domain-verification': 'rw6u2qsf90sclb2x6by9qg0l3o6out'}], 'pricespecification': [{'pricecurrency': 'London GBp (HSBA)', 'price': '644.60'}, {'pricecurrency': 'Hong Kong HKD (0005)', 'price': '62.65'}, {'pricecurrency': 'New York USD (HSBC)', 'price': '40.43'}, {'pricecurrency': 'London GBp (HSBA)', 'price': '644.60'}], 'cse_image': [{'src': 'https://www.hsbc.com/-/files/hsbc/who-we-are/our-businesses/og-images/240315-our-businesses-and-customers-560x315.jpg?as=0&dmc=0&iar=0&thn=0&udi=0&hash=0998687FDC51518C416DB0123D05017E'}], 'sitenavigationelement': [{'name': 'Who we are', 'url': 'Who we are'}], 'listitem': [{'item': 'Home', 'name': 'Home', 'position': '1'}, {'item': 'Who we are', 'name': 'Who we are', 'position': '2'}, {'item': 'https://www.hsbc.com/who-we-are/businesses-and-customers', 'name': 'Businesses and customers', 'position': '3'}]}}, {'kind': 'customsearch#result', 'title': 'What Is Private Banking? Definition and How It Works', 'htmlTitle': 'What Is Private <b>Banking</b>? Definition and How It Works', 'link': 'https://www.investopedia.com/terms/p/privatebanking.asp', 'displayLink': 'www.investopedia.com', 'snippet': 'Private banking consists of personalized financial services and products offered to the high net worth individual (HNWI) clients of a bank or other\\xa0...', 'htmlSnippet': 'Private <b>banking</b> consists of personalized <b>financial</b> services and <b>products offered</b> to the <b>high net worth individual</b> (HNWI) <b>clients</b> of a <b>bank</b> or other&nbsp;...', 'cacheId': '8Zke0C-p_-cJ', 'formattedUrl': 'https://www.investopedia.com/terms/p/privatebanking.asp', 'htmlFormattedUrl': 'https://www.investopedia.com/terms/p/privatebanking.asp', 'pagemap': {'cse_thumbnail': [{'src': 'https://encrypted-tbn0.gstatic.com/images?q=tbn:ANd9GcTltT_-kwfuHL4XXYzmHbaYxp4yXw_BJDJ0Z-eJaG36zt8Ac2bELZbt6s3N&s', 'width': '273', 'height': '184'}], 'metatags': [{'og:image': 'https://www.investopedia.com/thmb/-gcmcSRCbVBlCvDYfEZqX6RWam8=/1500x0/filters:no_upscale():max_bytes(150000):strip_icc()/Privatebanking_final_rev-1a12ce3cfb61423faef08e9001bf757b.png', 'twitter:card': 'summary', 'msapplication-square70x70logo': '/static/2.30.0/icons/favicons/mstile-70x70.png', 'sailthru.tags': 'personal-finance,wealth,wealth-management', 'og:site_name': 'Investopedia', 'msapplication-wide310x150logo': '/static/2.30.0/icons/favicons/mstile-310x150.png', 'msapplication-tileimage': '/static/2.30.0/icons/favicons/mstile-144x144.png', 'og:description': 'Private banking consists of personalized financial services and products offered to the high net worth individual (HNWI) clients of a bank or other financial institution.', 'twitter:image': 'https://www.investopedia.com/thmb/-gcmcSRCbVBlCvDYfEZqX6RWam8=/1500x0/filters:no_upscale():max_bytes(150000):strip_icc()/Privatebanking_final_rev-1a12ce3cfb61423faef08e9001bf757b.png', 'twitter:site': '@Investopedia', 'msapplication-square310x310logo': '/static/2.30.0/icons/favicons/mstile-310x310.png', 'emailcontenttype': 'TERMSC', 'parsely-section': 'Personal Finance', 'msapplication-tilecolor': '#F4F4F4', 'og:type': 'article', 'twitter:title': 'What Is Private Banking? Definition and How It Works', 'emailvertical': 'INVESTOPEDIA', 'og:title': 'What Is Private Banking? Definition and How It Works', 'msapplication-square150x150logo': '/static/2.30.0/icons/favicons/mstile-150x150.png', 'parsely-tags': 'Investopedia,Personal Finance,Wealth,Wealth Management,Banking', 'fb:app_id': '659054097907801', 'viewport': 'width=device-width, initial-scale=1.0', 'twitter:description': 'Private banking consists of personalized financial services and products offered to the high net worth individual (HNWI) clients of a bank or other financial institution.', 'og:url': 'https://www.investopedia.com/terms/p/privatebanking.asp', 'sailthru.author': 'James Chen'}], 'cse_image': [{'src': 'https://www.investopedia.com/thmb/-gcmcSRCbVBlCvDYfEZqX6RWam8=/1500x0/filters:no_upscale():max_bytes(150000):strip_icc()/Privatebanking_final_rev-1a12ce3cfb61423faef08e9001bf757b.png'}]}}, {'kind': 'customsearch#result', 'title': 'Citi | Global Wealth Management', 'htmlTitle': 'Citi | <b>Global Wealth</b> Management', 'link': 'https://www.citigroup.com/global/businesses/wealth', 'displayLink': 'www.citigroup.com', 'snippet': 'Citigold Private Client, the highest tier of banking at Citibank, is for clients with more than $1 million and offers an elevated financial relationship with a\\xa0...', 'htmlSnippet': 'Citigold Private <b>Client</b>, the <b>highest</b> tier of <b>banking</b> at Citibank, is for <b>clients</b> with more than $1 million and <b>offers</b> an <b>elevated financial</b> relationship with a&nbsp;...', 'formattedUrl': 'https://www.citigroup.com/global/businesses/wealth', 'htmlFormattedUrl': 'https://www.citigroup.com/<b>global</b>/businesses/wealth', 'pagemap': {'cse_thumbnail': [{'src': 'https://encrypted-tbn0.gstatic.com/images?q=tbn:ANd9GcQg_PEr7Z1N7kNPxPqt6GxvFrqNILcgdafpC9SCpnaLpSdaMR-UgRmUBYo&s', 'width': '399', 'height': '126'}], 'metatags': [{'next-head-count': '56', 'og:type': 'website', 'twitter:title': 'Citi | Global Wealth Management', 'twitter:card': 'Citi | Global Wealth Management', 'twitter:url': 'https://www.citigroup.com/global/businesses/global-wealth-management', 'viewport': 'width=device-width, initial-scale=1, shrink-to-fit=no', 'twitter:description': 'Global Wealth Management brings together the full power of Citi to serve the entire continuum of wealth clients, from affluent to ultra-high net worth to family offices.', 'og:title': 'Citi | Global Wealth Management', 'og:url': 'https://www.citigroup.com/global/businesses/wealth', 'og:description': 'Global Wealth Management brings together the full power of Citi to serve the entire continuum of wealth clients, from affluent to ultra-high net worth to family offices.', 'twitter:image': 'https://www.citigroup.com/rcs/citigpa/storage/public/citi-logo-rgb.jpg'}], 'cse_image': [{'src': 'https://www.citigroup.com/rcs/v1/siteIds/citigpa/asset/65c64f7e4159ef017371096e.jpg'}]}}, {'kind': 'customsearch#result', 'title': '8 lines of business: for people, companies & investors', 'htmlTitle': '8 lines of business: for people, companies &amp; investors', 'link': 'https://about.bankofamerica.com/en/our-company/eight-lines-of-business', 'displayLink': 'about.bankofamerica.com', 'snippet': 'We offer a ... high net worth clients with over $3 million in investable assets. ... Global Corporate & Investment Banking serves our largest corporate clients\\xa0...', 'htmlSnippet': 'We <b>offer</b> a ... <b>high net worth clients</b> with over $3 million in investable assets. ... <b>Global</b> Corporate &amp; Investment <b>Banking</b> serves our largest corporate <b>clients</b>&nbsp;...', 'cacheId': 'uL0vrULAYrAJ', 'formattedUrl': 'https://about.bankofamerica.com/en/our-company/eight-lines-of-business', 'htmlFormattedUrl': 'https://about.bankofamerica.com/en/our-company/eight-lines-of-business', 'pagemap': {'cse_thumbnail': [{'src': 'https://encrypted-tbn0.gstatic.com/images?q=tbn:ANd9GcSAsUAuDWWnYME5gadjd3pdEqvNxkOf8dN9-l3E_zGwr-RhUsrjYt368iB6&s', 'width': '310', 'height': '163'}], 'metatags': [{'template': 'higher-level-page', 'og:image': 'https://about.bankofamerica.com/content/dam/about/images/tiles/our-company/gettyimages-1187411618_tile@2x.jpg.transform/about-og-image/image.jpg', 'og:type': 'website', 'og:image:alt': '8 Lines of Business: For People, Companies & Investors', 'twitter:title': '8 Lines of Business: For People, Companies & Investors', 'twitter:card': 'summary', 'og:site_name': 'Bank of America', 'twitter:url': 'https://about.bankofamerica.com/en/our-company/eight-lines-of-business', 'og:title': '8 Lines of Business: For People, Companies & Investors', 'color-scheme': 'only light', 'title': '8 Lines of Business: For People, Companies & Investors', 'og:description': \"Individuals, companies and institutional investors all have different financial needs. Discover Bank of America's products and services across eight lines of business.\", 'twitter:creator': '@BankofAmerica', 'twitter:image': 'https://about.bankofamerica.com/content/dam/about/images/tiles/our-company/gettyimages-1187411618_tile@2x.jpg.transform/about-tw-image/image.jpg', 'twitter:image:alt': '8 Lines of Business: For People, Companies & Investors', 'twitter:site': '@BankofAmerica', 'twitter:creator:id': '@BankofAmerica', 'viewport': 'width=device-width, initial-scale=1', 'twitter:description': \"Individuals, companies and institutional investors all have different financial needs. Discover Bank of America's products and services across eight lines of business.\", 'og:locale': 'en_US', 'og:url': 'https://about.bankofamerica.com/en/our-company/eight-lines-of-business'}], 'cse_image': [{'src': 'https://about.bankofamerica.com/content/dam/about/images/tiles/our-company/gettyimages-1187411618_tile@2x.jpg.transform/about-og-image/image.jpg'}]}}, {'kind': 'customsearch#result', 'title': 'High net worth investor survey: PwC', 'htmlTitle': '<b>High net worth</b> investor survey: PwC', 'link': 'https://www.pwc.com/us/en/industries/financial-services/asset-wealth-management/high-net-worth-investor.html', 'displayLink': 'www.pwc.com', 'snippet': 'As the high-net-worth seek out new wealth managers, how do you retain clients and capture money-in-motion? · 46%. Of HNW investors plan to change/add wealth\\xa0...', 'htmlSnippet': 'As the <b>high</b>-<b>net</b>-<b>worth</b> seek out new wealth managers, how do you retain <b>clients</b> and capture money-in-motion? &middot; 46%. Of <b>HNW</b> investors plan to change/add wealth&nbsp;...', 'cacheId': 'UcTRj6TkEYQJ', 'formattedUrl': 'https://www.pwc.com/us/en/industries/.../high-net-worth-investor.html', 'htmlFormattedUrl': 'https://www.pwc.com/us/en/industries/.../<b>high</b>-<b>net</b>-<b>worth</b>-investor.html', 'pagemap': {'cse_thumbnail': [{'src': 'https://encrypted-tbn0.gstatic.com/images?q=tbn:ANd9GcTPO_sveEB72oBHyFKPY-BhY-1lMHJzjaGQws2W4DxGV1EGuS8yPOHdvwk&s', 'width': '299', 'height': '168'}], 'metatags': [{'og:image': 'https://www.pwc.com/us/en/industries/banking-capital-markets/assets/gettyimages-1167016662-670.jpg', 'og:type': 'article', 'og:site_name': 'PwC', 'pwctag': 'Publication||, Asset and wealth management||, Asset management||, Publication||, Financial services||', 'pwcselectednav': '3', 'author': 'PricewaterhouseCoopers', 'pwccountry': 'us', 'pwchidelevel': '0,2', 'og:title': 'As the high-net-worth seek out new wealth managers, how do you retain clients and capture money-in-motion?', 'og:description': 'High net worth investors are reconsidering their wealth management relationships as they seek personalized experiences, increased access to products and services, and improved digital capabilities.', 'pwclocale': 'en_us', 'pwctitle': 'As the high-net-worth seek out new wealth managers, how do you retain clients and capture money-in-motion?', 'viewport': 'width=device-width, initial-scale=1.0', 'pwcreleasedate': '2022-12-02T09:20:00.000-03:00', 'pwclang': 'en', 'og:url': 'https://www.pwc.com/us/en/industries/financial-services/asset-wealth-management/high-net-worth-investor.html', 'pwcgeo.default': 'US', 'pwclastmodifieddate': '2024-03-15T04:08:40.599Z'}], 'cse_image': [{'src': 'https://www.pwc.com/us/en/industries/banking-capital-markets/assets/gettyimages-1167016662-670.jpg'}]}}, {'kind': 'customsearch#result', 'title': \"McKinsey's Global Banking Annual Review 2023 | McKinsey\", 'htmlTitle': 'McKinsey&#39;s <b>Global Banking</b> Annual <b>Review</b> 2023 | McKinsey', 'link': 'https://www.mckinsey.com/industries/financial-services/our-insights/global-banking-annual-review', 'displayLink': 'www.mckinsey.com', 'snippet': 'Oct 10, 2023 ... ... global banking industry ... The higher interest rates enabled a long-awaited improvement in net ... For example, in client discussions, product\\xa0...', 'htmlSnippet': 'Oct 10, 2023 <b>...</b> ... <b>global banking</b> industry ... The <b>higher</b> interest rates enabled a long-awaited improvement in <b>net</b> ... For example, in <b>client</b> discussions, <b>product</b>&nbsp;...', 'cacheId': 'iDfNxSKj4v8J', 'formattedUrl': 'https://www.mckinsey.com/industries/.../global-banking-annual-review', 'htmlFormattedUrl': 'https://www.mckinsey.com/industries/.../<b>global</b>-banking-annual-review', 'pagemap': {'metatags': [{'apple-itunes-app': 'app-id=674902075', 'twitter:card': 'summary_large_image', 'accesslevel': 'public', 'title': 'Global Banking Annual Review 2023: The Great Banking Transition', 'authors-name': 'Debopriyo Bhattacharyya | Miklos Dietz | Alexander Edlich | Reinhard Holl | Asheet Mehta | Brian Weintraub | Eckart Windhagen', 'twitter:image': 'https://www.mckinsey.com/~/media/mckinsey/industries/financial%20services/our%20insights/global%20banking%20annual%20review%202023/gbar2023-1414988641-thumb-1536x1536-vf.jpg?mw=677&car=42:25', 'sid': '{27CC7141-1A96-468A-9B8C-AAE2B27F9B8F}', 'next-head-count': '57', 'twitter:image:alt': 'Global Banking Annual Review 2023: The Great Banking Transition', 'twitter:site': '@mckinsey', 'searchresults-tags': 'Financial Services | Report | October 9, 2023', 'practice-code': 'N15', 'image': 'https://www.mckinsey.com/~/media/mckinsey/industries/financial%20services/our%20insights/global%20banking%20annual%20review%202023/gbar2023-1414988641-thumb-1536x1536-vf.jpg', 'twitter:title': 'Global Banking Annual Review 2023: The Great Banking Transition', 'articletype': 'report', 'url': 'https://www.mckinsey.com/industries/financial-services/our-insights/global-banking-annual-review', 'sections': 'Insights & Publications', 'contenttype': 'Article', 'site_name': 'McKinsey & Company', 'referrer': 'no-referrer-when-downgrade', 'viewport': 'width=device-width, initial-scale=1.0', 'twitter:description': 'McKinsey’s Global Banking Annual Review offers the best of our research into the global banking industry. Explore the findings from our latest 2023 report.', 'practice-name': 'Financial Services', 'mobileready': 'true', 'itemdate': '2023-10-10T00:00:00Z', 'excludefromclientlink': 'false'}]}}, {'kind': 'customsearch#result', 'title': 'UBS partners with Addepar and Mirador to deliver comprehensive ...', 'htmlTitle': 'UBS partners with Addepar and Mirador to deliver comprehensive ...', 'link': 'https://www.ubs.com/global/en/media/display-page-ndp/en-20221116-ubs-partners-with-addepar-and-mirador.html', 'displayLink': 'www.ubs.com', 'snippet': 'Nov 16, 2022 ... UBS partners with Addepar and Mirador to deliver wealth analysis and reporting for ultra high net worth clients. New York, NY, November 16,\\xa0...', 'htmlSnippet': 'Nov 16, 2022 <b>...</b> UBS partners with Addepar and Mirador to deliver wealth <b>analysis</b> and reporting for ultra <b>high net worth clients</b>. New York, NY, November 16,&nbsp;...', 'cacheId': '2Jh4nNweyqsJ', 'formattedUrl': 'https://www.ubs.com/global/.../en-20221116-ubs-partners-with-addepar-an...', 'htmlFormattedUrl': 'https://www.ubs.com/<b>global</b>/.../en-20221116-ubs-partners-with-addepar-an...', 'pagemap': {'metatags': [{'ubsprobing': '---', 'msapplication-config': '/etc/designs/fit/img/favicons/browserconfig.xml', 'og:type': 'website', 'twitter:card': 'summary_large_image', 'og:site_name': 'global', 'twitter:site': '@UBS', 'viewport': 'width=device-width,initial-scale=1.0', 'twitter:description': 'UBS partners with Addepar and Mirador to deliver wealth analysis and reporting for ultra high net worth clients', 'og:url': 'https://www.ubs.com/global/en/media/display-page-ndp/en-20221116-ubs-partners-with-addepar-and-mirador.html', 'og:description': 'UBS partners with Addepar and Mirador to deliver wealth analysis and reporting for ultra high net worth clients'}]}}, {'kind': 'customsearch#result', 'title': 'Global Wealth & Asset Management 2022 edition', 'htmlTitle': '<b>Global Wealth</b> &amp; <b>Asset</b> Management 2022 edition', 'link': 'https://www.oliverwyman.com/our-expertise/insights/2022/jun/morgan-stanley-oliver-wyman-wealth-asset-management-report-2022.html', 'displayLink': 'www.oliverwyman.com', 'snippet': '... net-worth (UHNW) and higher-net-worth (HNW) segments, thus not prioritizing less wealthy clients. Only players with a premium brand or strong investment banking\\xa0...', 'htmlSnippet': '... net-worth (UHNW) and <b>higher</b>-<b>net</b>-<b>worth</b> (<b>HNW</b>) segments, thus not prioritizing less wealthy <b>clients</b>. Only players with a premium brand or strong investment <b>banking</b>&nbsp;...', 'cacheId': 'E4d40BBqphMJ', 'formattedUrl': 'https://www.oliverwyman.com/.../morgan-stanley-oliver-wyman-wealth-ass...', 'htmlFormattedUrl': 'https://www.oliverwyman.com/.../morgan-stanley-oliver-wyman-wealth-ass...', 'pagemap': {'cse_thumbnail': [{'src': 'https://encrypted-tbn0.gstatic.com/images?q=tbn:ANd9GcQ7nq_CT33GfdhmzgW0bLuEjTnswg471i140APqorhs-GsATm8K6yfJh4w&s', 'width': '310', 'height': '163'}], 'metatags': [{'template': 'Insight V3', 'og:image': 'https://www.oliverwyman.com/content/dam/oliver-wyman/v2/publications/2021/jan/time_to_evolve.jpg', 'twitter:card': 'summary_large_image', 'twitter:title': 'Global Wealth & Asset Management 2022 edition', 'author': 'Christian Edelmann', 'og:title': 'Global Wealth & Asset Management 2022 edition', 'language': 'en', 'og:description': 'Wealth Management 3.0: In Time To Evolve, a Morgan Stanley and Oliver Wyman Global Wealth & Asset Management report, we explore the industry priorities.', 'twitter:image': 'https://www.oliverwyman.com/content/dam/oliver-wyman/v2/publications/2021/jan/time_to_evolve.jpg', 'publish-date': '2022-06-09', 'uid': '1654356099692050-20wT50tzQ2WS9icq', 'fb:app_id': '373202479535707', 'twitter:site': '@OliverWyman', 'viewport': 'width=device-width, initial-scale=1', 'twitter:description': 'Wealth Management 3.0: In Time To Evolve, a Morgan Stanley and Oliver Wyman Global Wealth & Asset Management report, we explore the industry priorities.', 'tag': 'ow:themes/operational-resilience', 'last-modified-date': '2023-03-31', 'og:url': 'https://www.oliverwyman.com/our-expertise/insights/2022/jun/morgan-stanley-oliver-wyman-wealth-asset-management-report-2022.html'}], 'cse_image': [{'src': 'https://www.oliverwyman.com/content/dam/oliver-wyman/v2/publications/2021/jan/time_to_evolve.jpg'}], 'listitem': [{'item': 'https://www.oliverwyman.com/index.html'}, {'item': 'Insights', 'name': 'Insights', 'position': '1'}, {'item': 'Time To Evolve', 'name': 'Time To Evolve', 'position': '2'}]}}]\n"
     ]
    }
   ],
   "source": [
    "results = response.json()['items']\n",
    "print(results)"
   ]
  },
  {
   "cell_type": "code",
   "execution_count": 7,
   "metadata": {},
   "outputs": [],
   "source": [
    "# Specify the file path for the CSV file\n",
    "csv_file_path = r\"C:\\Users\\gabri\\Downloads\\search_results.csv\"\n",
    "\n",
    "# Open the CSV file in write mode\n",
    "with open(csv_file_path, 'a', newline='', encoding='utf-8') as csvfile:\n",
    "    # Define the CSV writer\n",
    "    csv_writer = csv.writer(csvfile)\n",
    "    \n",
    "    # Write the header row\n",
    "    csv_writer.writerow(['Query', 'Link'])\n",
    "    \n",
    "    # Write data rows\n",
    "    for item in results:\n",
    "        link = item.get('link', 'N/A')\n",
    "        csv_writer.writerow([search_query, link])"
   ]
  },
  {
   "cell_type": "code",
   "execution_count": 8,
   "metadata": {},
   "outputs": [
    {
     "name": "stdout",
     "output_type": "stream",
     "text": [
      "https://www.capgemini.com/wp-content/uploads/2017/07/Trends_in_Global_Wealth_Management__A_Client_Perspective.pdf\n",
      "https://www.investopedia.com/terms/h/hnwi.asp\n",
      "https://www.hsbc.com/who-we-are/businesses-and-customers\n",
      "https://www.investopedia.com/terms/p/privatebanking.asp\n",
      "https://www.citigroup.com/global/businesses/wealth\n",
      "https://about.bankofamerica.com/en/our-company/eight-lines-of-business\n",
      "https://www.pwc.com/us/en/industries/financial-services/asset-wealth-management/high-net-worth-investor.html\n",
      "https://www.mckinsey.com/industries/financial-services/our-insights/global-banking-annual-review\n",
      "https://www.ubs.com/global/en/media/display-page-ndp/en-20221116-ubs-partners-with-addepar-and-mirador.html\n",
      "https://www.oliverwyman.com/our-expertise/insights/2022/jun/morgan-stanley-oliver-wyman-wealth-asset-management-report-2022.html\n"
     ]
    }
   ],
   "source": [
    "#if 'items' in results:\n",
    "    #print(results['items']['link'])\n",
    "\n",
    "for items in results:\n",
    "    print(items['link'])"
   ]
  }
 ],
 "metadata": {
  "kernelspec": {
   "display_name": "Python 3",
   "language": "python",
   "name": "python3"
  },
  "language_info": {
   "codemirror_mode": {
    "name": "ipython",
    "version": 3
   },
   "file_extension": ".py",
   "mimetype": "text/x-python",
   "name": "python",
   "nbconvert_exporter": "python",
   "pygments_lexer": "ipython3",
   "version": "3.11.3"
  }
 },
 "nbformat": 4,
 "nbformat_minor": 2
}
