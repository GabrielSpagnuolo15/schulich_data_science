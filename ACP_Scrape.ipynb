{
 "cells": [
  {
   "cell_type": "code",
   "execution_count": 10,
   "metadata": {},
   "outputs": [
    {
     "name": "stdout",
     "output_type": "stream",
     "text": [
      "Requirement already satisfied: BeautifulSoup4 in c:\\users\\gabri\\appdata\\roaming\\python\\python311\\site-packages (4.12.2)\n",
      "Requirement already satisfied: soupsieve>1.2 in c:\\users\\gabri\\appdata\\roaming\\python\\python311\\site-packages (from BeautifulSoup4) (2.5)\n",
      "Note: you may need to restart the kernel to use updated packages.\n"
     ]
    },
    {
     "name": "stderr",
     "output_type": "stream",
     "text": [
      "\n",
      "[notice] A new release of pip is available: 23.1.2 -> 23.3.1\n",
      "[notice] To update, run: python.exe -m pip install --upgrade pip\n"
     ]
    }
   ],
   "source": [
    "pip install BeautifulSoup4"
   ]
  },
  {
   "cell_type": "code",
   "execution_count": 11,
   "metadata": {},
   "outputs": [],
   "source": [
    "from bs4 import BeautifulSoup\n",
    "import requests as r"
   ]
  },
  {
   "cell_type": "code",
   "execution_count": 12,
   "metadata": {},
   "outputs": [],
   "source": [
    "url = 'https://api.gdeltproject.org/api/v2/doc/doc'"
   ]
  },
  {
   "cell_type": "code",
   "execution_count": 13,
   "metadata": {},
   "outputs": [],
   "source": [
    "html = r.get(url)"
   ]
  },
  {
   "cell_type": "code",
   "execution_count": 14,
   "metadata": {},
   "outputs": [],
   "source": [
    "s = BeautifulSoup(html.content, 'html.parser')"
   ]
  },
  {
   "cell_type": "code",
   "execution_count": 15,
   "metadata": {},
   "outputs": [
    {
     "ename": "AttributeError",
     "evalue": "'NoneType' object has no attribute 'find_all'",
     "output_type": "error",
     "traceback": [
      "\u001b[1;31m---------------------------------------------------------------------------\u001b[0m",
      "\u001b[1;31mAttributeError\u001b[0m                            Traceback (most recent call last)",
      "\u001b[1;32mGabrielSpagnuolo15\\schulich_data_science\\ACP_Scrape.ipynb Cell 6\u001b[0m line \u001b[0;36m2\n\u001b[0;32m      <a href='vscode-notebook-cell://github/GabrielSpagnuolo15/schulich_data_science/ACP_Scrape.ipynb#W5sdnNjb2RlLXZmcw%3D%3D?line=0'>1</a>\u001b[0m results \u001b[39m=\u001b[39m s\u001b[39m.\u001b[39mfind(\u001b[39mid\u001b[39m\u001b[39m=\u001b[39m\u001b[39m'\u001b[39m\u001b[39mResultsContainer\u001b[39m\u001b[39m'\u001b[39m)\n\u001b[1;32m----> <a href='vscode-notebook-cell://github/GabrielSpagnuolo15/schulich_data_science/ACP_Scrape.ipynb#W5sdnNjb2RlLXZmcw%3D%3D?line=1'>2</a>\u001b[0m job_title \u001b[39m=\u001b[39m results\u001b[39m.\u001b[39;49mfind_all(\u001b[39m'\u001b[39m\u001b[39mh2\u001b[39m\u001b[39m'\u001b[39m, class_\u001b[39m=\u001b[39m\u001b[39m'\u001b[39m\u001b[39mtitle is-5\u001b[39m\u001b[39m'\u001b[39m)\n",
      "\u001b[1;31mAttributeError\u001b[0m: 'NoneType' object has no attribute 'find_all'"
     ]
    }
   ],
   "source": [
    "results = s.find(id='ResultsContainer')\n",
    "job_title = results.find_all('h2', class_='title is-5')"
   ]
  },
  {
   "cell_type": "code",
   "execution_count": null,
   "metadata": {},
   "outputs": [
    {
     "name": "stdout",
     "output_type": "stream",
     "text": [
      "Senior Python Developer\n",
      "Energy engineer\n",
      "Legal executive\n",
      "Fitness centre manager\n",
      "Product manager\n",
      "Medical technical officer\n",
      "Physiological scientist\n",
      "Textile designer\n",
      "Television floor manager\n",
      "Waste management officer\n",
      "Software Engineer (Python)\n",
      "Interpreter\n",
      "Architect\n",
      "Meteorologist\n",
      "Audiological scientist\n",
      "English as a second language teacher\n",
      "Surgeon\n",
      "Equities trader\n",
      "Newspaper journalist\n",
      "Materials engineer\n",
      "Python Programmer (Entry-Level)\n",
      "Product/process development scientist\n",
      "Scientist, research (maths)\n",
      "Ecologist\n",
      "Materials engineer\n",
      "Historic buildings inspector/conservation officer\n",
      "Data scientist\n",
      "Psychiatrist\n",
      "Structural engineer\n",
      "Immigration officer\n",
      "Python Programmer (Entry-Level)\n",
      "Neurosurgeon\n",
      "Broadcast engineer\n",
      "Make\n",
      "Nurse, adult\n",
      "Air broker\n",
      "Editor, film/video\n",
      "Production assistant, radio\n",
      "Engineer, communications\n",
      "Sales executive\n",
      "Software Developer (Python)\n",
      "Futures trader\n",
      "Tour manager\n",
      "Cytogeneticist\n",
      "Designer, multimedia\n",
      "Trade union research officer\n",
      "Chemist, analytical\n",
      "Programmer, multimedia\n",
      "Engineer, broadcasting (operations)\n",
      "Teacher, primary school\n",
      "Python Developer\n",
      "Manufacturing systems engineer\n",
      "Producer, television/film/video\n",
      "Scientist, forensic\n",
      "Bonds trader\n",
      "Editorial assistant\n",
      "Photographer\n",
      "Retail banker\n",
      "Jewellery designer\n",
      "Ophthalmologist\n",
      "Back-End Web Developer (Python, Django)\n",
      "Licensed conveyancer\n",
      "Futures trader\n",
      "Counselling psychologist\n",
      "Insurance underwriter\n",
      "Engineer, automotive\n",
      "Producer, radio\n",
      "Dispensing optician\n",
      "Designer, fashion/clothing\n",
      "Chartered loss adjuster\n",
      "Back-End Web Developer (Python, Django)\n",
      "Forest/woodland manager\n",
      "Clinical cytogeneticist\n",
      "Print production planner\n",
      "Systems developer\n",
      "Graphic designer\n",
      "Writer\n",
      "Field seismologist\n",
      "Chief Strategy Officer\n",
      "Air cabin crew\n",
      "Python Programmer (Entry-Level)\n",
      "Warden/ranger\n",
      "Sports therapist\n",
      "Arts development officer\n",
      "Printmaker\n",
      "Health and safety adviser\n",
      "Manufacturing systems engineer\n",
      "Programmer, applications\n",
      "Medical physicist\n",
      "Media planner\n",
      "Software Developer (Python)\n",
      "Surveyor, land/geomatics\n",
      "Legal executive\n",
      "Librarian, academic\n",
      "Barrister\n",
      "Museum/gallery exhibitions officer\n",
      "Radiographer, diagnostic\n",
      "Database administrator\n",
      "Furniture designer\n",
      "Ship broker\n"
     ]
    }
   ],
   "source": [
    "for job in job_title:\n",
    "    print(job.text)"
   ]
  },
  {
   "cell_type": "code",
   "execution_count": null,
   "metadata": {},
   "outputs": [],
   "source": []
  }
 ],
 "metadata": {
  "kernelspec": {
   "display_name": "Python 3",
   "language": "python",
   "name": "python3"
  },
  "language_info": {
   "codemirror_mode": {
    "name": "ipython",
    "version": 3
   },
   "file_extension": ".py",
   "mimetype": "text/x-python",
   "name": "python",
   "nbconvert_exporter": "python",
   "pygments_lexer": "ipython3",
   "version": "3.11.3"
  }
 },
 "nbformat": 4,
 "nbformat_minor": 2
}
