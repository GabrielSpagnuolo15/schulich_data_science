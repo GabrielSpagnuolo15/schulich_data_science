{
 "cells": [
  {
   "cell_type": "code",
   "execution_count": 40,
   "metadata": {},
   "outputs": [],
   "source": [
    "import pandas as pd\n",
    "import seaborn as sns\n",
    "import matplotlib.pyplot as plt\n",
    "from scipy import stats\n",
    "import seaborn as sns"
   ]
  },
  {
   "cell_type": "code",
   "execution_count": 41,
   "metadata": {},
   "outputs": [],
   "source": [
    "df = pd.read_csv(r\"C:\\Users\\gabri\\Downloads\\experiment_dataset.csv\")"
   ]
  },
  {
   "cell_type": "code",
   "execution_count": 42,
   "metadata": {},
   "outputs": [
    {
     "data": {
      "text/html": [
       "<div>\n",
       "<style scoped>\n",
       "    .dataframe tbody tr th:only-of-type {\n",
       "        vertical-align: middle;\n",
       "    }\n",
       "\n",
       "    .dataframe tbody tr th {\n",
       "        vertical-align: top;\n",
       "    }\n",
       "\n",
       "    .dataframe thead th {\n",
       "        text-align: right;\n",
       "    }\n",
       "</style>\n",
       "<table border=\"1\" class=\"dataframe\">\n",
       "  <thead>\n",
       "    <tr style=\"text-align: right;\">\n",
       "      <th></th>\n",
       "      <th>Unnamed: 0</th>\n",
       "      <th>Age</th>\n",
       "      <th>Location</th>\n",
       "      <th>Device</th>\n",
       "      <th>Variant</th>\n",
       "      <th>Time Spent</th>\n",
       "      <th>CTR</th>\n",
       "    </tr>\n",
       "  </thead>\n",
       "  <tbody>\n",
       "    <tr>\n",
       "      <th>0</th>\n",
       "      <td>0</td>\n",
       "      <td>62</td>\n",
       "      <td>Location2</td>\n",
       "      <td>Device2</td>\n",
       "      <td>Control</td>\n",
       "      <td>13.928669</td>\n",
       "      <td>0.084776</td>\n",
       "    </tr>\n",
       "    <tr>\n",
       "      <th>1</th>\n",
       "      <td>1</td>\n",
       "      <td>18</td>\n",
       "      <td>Location1</td>\n",
       "      <td>Device1</td>\n",
       "      <td>Variant B</td>\n",
       "      <td>11.310518</td>\n",
       "      <td>0.096859</td>\n",
       "    </tr>\n",
       "    <tr>\n",
       "      <th>2</th>\n",
       "      <td>2</td>\n",
       "      <td>21</td>\n",
       "      <td>Location2</td>\n",
       "      <td>Device1</td>\n",
       "      <td>Variant B</td>\n",
       "      <td>24.842100</td>\n",
       "      <td>0.097630</td>\n",
       "    </tr>\n",
       "    <tr>\n",
       "      <th>3</th>\n",
       "      <td>3</td>\n",
       "      <td>21</td>\n",
       "      <td>Location1</td>\n",
       "      <td>Device3</td>\n",
       "      <td>Variant B</td>\n",
       "      <td>20.061300</td>\n",
       "      <td>0.109783</td>\n",
       "    </tr>\n",
       "    <tr>\n",
       "      <th>4</th>\n",
       "      <td>4</td>\n",
       "      <td>57</td>\n",
       "      <td>Location1</td>\n",
       "      <td>Device2</td>\n",
       "      <td>Variant B</td>\n",
       "      <td>34.495503</td>\n",
       "      <td>0.068579</td>\n",
       "    </tr>\n",
       "    <tr>\n",
       "      <th>...</th>\n",
       "      <td>...</td>\n",
       "      <td>...</td>\n",
       "      <td>...</td>\n",
       "      <td>...</td>\n",
       "      <td>...</td>\n",
       "      <td>...</td>\n",
       "      <td>...</td>\n",
       "    </tr>\n",
       "    <tr>\n",
       "      <th>995</th>\n",
       "      <td>995</td>\n",
       "      <td>39</td>\n",
       "      <td>Location2</td>\n",
       "      <td>Device2</td>\n",
       "      <td>Variant B</td>\n",
       "      <td>17.252030</td>\n",
       "      <td>0.092211</td>\n",
       "    </tr>\n",
       "    <tr>\n",
       "      <th>996</th>\n",
       "      <td>996</td>\n",
       "      <td>38</td>\n",
       "      <td>Location3</td>\n",
       "      <td>Device2</td>\n",
       "      <td>Control</td>\n",
       "      <td>30.075898</td>\n",
       "      <td>0.078151</td>\n",
       "    </tr>\n",
       "    <tr>\n",
       "      <th>997</th>\n",
       "      <td>997</td>\n",
       "      <td>60</td>\n",
       "      <td>Location2</td>\n",
       "      <td>Device3</td>\n",
       "      <td>Control</td>\n",
       "      <td>31.929223</td>\n",
       "      <td>0.125213</td>\n",
       "    </tr>\n",
       "    <tr>\n",
       "      <th>998</th>\n",
       "      <td>998</td>\n",
       "      <td>35</td>\n",
       "      <td>Location2</td>\n",
       "      <td>Device2</td>\n",
       "      <td>Variant B</td>\n",
       "      <td>14.680299</td>\n",
       "      <td>0.095423</td>\n",
       "    </tr>\n",
       "    <tr>\n",
       "      <th>999</th>\n",
       "      <td>999</td>\n",
       "      <td>55</td>\n",
       "      <td>Location1</td>\n",
       "      <td>Device1</td>\n",
       "      <td>Variant B</td>\n",
       "      <td>25.803169</td>\n",
       "      <td>0.166688</td>\n",
       "    </tr>\n",
       "  </tbody>\n",
       "</table>\n",
       "<p>1000 rows × 7 columns</p>\n",
       "</div>"
      ],
      "text/plain": [
       "     Unnamed: 0  Age   Location   Device    Variant  Time Spent       CTR\n",
       "0             0   62  Location2  Device2    Control   13.928669  0.084776\n",
       "1             1   18  Location1  Device1  Variant B   11.310518  0.096859\n",
       "2             2   21  Location2  Device1  Variant B   24.842100  0.097630\n",
       "3             3   21  Location1  Device3  Variant B   20.061300  0.109783\n",
       "4             4   57  Location1  Device2  Variant B   34.495503  0.068579\n",
       "..          ...  ...        ...      ...        ...         ...       ...\n",
       "995         995   39  Location2  Device2  Variant B   17.252030  0.092211\n",
       "996         996   38  Location3  Device2    Control   30.075898  0.078151\n",
       "997         997   60  Location2  Device3    Control   31.929223  0.125213\n",
       "998         998   35  Location2  Device2  Variant B   14.680299  0.095423\n",
       "999         999   55  Location1  Device1  Variant B   25.803169  0.166688\n",
       "\n",
       "[1000 rows x 7 columns]"
      ]
     },
     "execution_count": 42,
     "metadata": {},
     "output_type": "execute_result"
    }
   ],
   "source": [
    "df"
   ]
  },
  {
   "cell_type": "code",
   "execution_count": 43,
   "metadata": {},
   "outputs": [
    {
     "name": "stdout",
     "output_type": "stream",
     "text": [
      "<class 'pandas.core.frame.DataFrame'>\n",
      "RangeIndex: 1000 entries, 0 to 999\n",
      "Data columns (total 7 columns):\n",
      " #   Column      Non-Null Count  Dtype  \n",
      "---  ------      --------------  -----  \n",
      " 0   Unnamed: 0  1000 non-null   int64  \n",
      " 1   Age         1000 non-null   int64  \n",
      " 2   Location    1000 non-null   object \n",
      " 3   Device      1000 non-null   object \n",
      " 4   Variant     1000 non-null   object \n",
      " 5   Time Spent  1000 non-null   float64\n",
      " 6   CTR         1000 non-null   float64\n",
      "dtypes: float64(2), int64(2), object(3)\n",
      "memory usage: 54.8+ KB\n"
     ]
    }
   ],
   "source": [
    "df.info()"
   ]
  },
  {
   "cell_type": "code",
   "execution_count": 44,
   "metadata": {},
   "outputs": [
    {
     "data": {
      "text/html": [
       "<div>\n",
       "<style scoped>\n",
       "    .dataframe tbody tr th:only-of-type {\n",
       "        vertical-align: middle;\n",
       "    }\n",
       "\n",
       "    .dataframe tbody tr th {\n",
       "        vertical-align: top;\n",
       "    }\n",
       "\n",
       "    .dataframe thead th {\n",
       "        text-align: right;\n",
       "    }\n",
       "</style>\n",
       "<table border=\"1\" class=\"dataframe\">\n",
       "  <thead>\n",
       "    <tr style=\"text-align: right;\">\n",
       "      <th></th>\n",
       "      <th>Unnamed: 0</th>\n",
       "      <th>Age</th>\n",
       "      <th>Location</th>\n",
       "      <th>Device</th>\n",
       "      <th>Variant</th>\n",
       "      <th>Time Spent</th>\n",
       "      <th>CTR</th>\n",
       "    </tr>\n",
       "  </thead>\n",
       "  <tbody>\n",
       "    <tr>\n",
       "      <th>count</th>\n",
       "      <td>1000.000000</td>\n",
       "      <td>1000.000000</td>\n",
       "      <td>1000</td>\n",
       "      <td>1000</td>\n",
       "      <td>1000</td>\n",
       "      <td>1000.000000</td>\n",
       "      <td>1000.000000</td>\n",
       "    </tr>\n",
       "    <tr>\n",
       "      <th>unique</th>\n",
       "      <td>NaN</td>\n",
       "      <td>NaN</td>\n",
       "      <td>3</td>\n",
       "      <td>3</td>\n",
       "      <td>3</td>\n",
       "      <td>NaN</td>\n",
       "      <td>NaN</td>\n",
       "    </tr>\n",
       "    <tr>\n",
       "      <th>top</th>\n",
       "      <td>NaN</td>\n",
       "      <td>NaN</td>\n",
       "      <td>Location2</td>\n",
       "      <td>Device3</td>\n",
       "      <td>Control</td>\n",
       "      <td>NaN</td>\n",
       "      <td>NaN</td>\n",
       "    </tr>\n",
       "    <tr>\n",
       "      <th>freq</th>\n",
       "      <td>NaN</td>\n",
       "      <td>NaN</td>\n",
       "      <td>343</td>\n",
       "      <td>346</td>\n",
       "      <td>340</td>\n",
       "      <td>NaN</td>\n",
       "      <td>NaN</td>\n",
       "    </tr>\n",
       "    <tr>\n",
       "      <th>mean</th>\n",
       "      <td>499.500000</td>\n",
       "      <td>40.715000</td>\n",
       "      <td>NaN</td>\n",
       "      <td>NaN</td>\n",
       "      <td>NaN</td>\n",
       "      <td>22.713345</td>\n",
       "      <td>0.109145</td>\n",
       "    </tr>\n",
       "    <tr>\n",
       "      <th>std</th>\n",
       "      <td>288.819436</td>\n",
       "      <td>13.655557</td>\n",
       "      <td>NaN</td>\n",
       "      <td>NaN</td>\n",
       "      <td>NaN</td>\n",
       "      <td>5.479292</td>\n",
       "      <td>0.022366</td>\n",
       "    </tr>\n",
       "    <tr>\n",
       "      <th>min</th>\n",
       "      <td>0.000000</td>\n",
       "      <td>18.000000</td>\n",
       "      <td>NaN</td>\n",
       "      <td>NaN</td>\n",
       "      <td>NaN</td>\n",
       "      <td>7.114806</td>\n",
       "      <td>0.012975</td>\n",
       "    </tr>\n",
       "    <tr>\n",
       "      <th>25%</th>\n",
       "      <td>249.750000</td>\n",
       "      <td>28.000000</td>\n",
       "      <td>NaN</td>\n",
       "      <td>NaN</td>\n",
       "      <td>NaN</td>\n",
       "      <td>19.216608</td>\n",
       "      <td>0.094286</td>\n",
       "    </tr>\n",
       "    <tr>\n",
       "      <th>50%</th>\n",
       "      <td>499.500000</td>\n",
       "      <td>41.000000</td>\n",
       "      <td>NaN</td>\n",
       "      <td>NaN</td>\n",
       "      <td>NaN</td>\n",
       "      <td>22.506707</td>\n",
       "      <td>0.108944</td>\n",
       "    </tr>\n",
       "    <tr>\n",
       "      <th>75%</th>\n",
       "      <td>749.250000</td>\n",
       "      <td>53.000000</td>\n",
       "      <td>NaN</td>\n",
       "      <td>NaN</td>\n",
       "      <td>NaN</td>\n",
       "      <td>26.255950</td>\n",
       "      <td>0.124238</td>\n",
       "    </tr>\n",
       "    <tr>\n",
       "      <th>max</th>\n",
       "      <td>999.000000</td>\n",
       "      <td>64.000000</td>\n",
       "      <td>NaN</td>\n",
       "      <td>NaN</td>\n",
       "      <td>NaN</td>\n",
       "      <td>39.395770</td>\n",
       "      <td>0.172728</td>\n",
       "    </tr>\n",
       "  </tbody>\n",
       "</table>\n",
       "</div>"
      ],
      "text/plain": [
       "         Unnamed: 0          Age   Location   Device  Variant   Time Spent   \n",
       "count   1000.000000  1000.000000       1000     1000     1000  1000.000000  \\\n",
       "unique          NaN          NaN          3        3        3          NaN   \n",
       "top             NaN          NaN  Location2  Device3  Control          NaN   \n",
       "freq            NaN          NaN        343      346      340          NaN   \n",
       "mean     499.500000    40.715000        NaN      NaN      NaN    22.713345   \n",
       "std      288.819436    13.655557        NaN      NaN      NaN     5.479292   \n",
       "min        0.000000    18.000000        NaN      NaN      NaN     7.114806   \n",
       "25%      249.750000    28.000000        NaN      NaN      NaN    19.216608   \n",
       "50%      499.500000    41.000000        NaN      NaN      NaN    22.506707   \n",
       "75%      749.250000    53.000000        NaN      NaN      NaN    26.255950   \n",
       "max      999.000000    64.000000        NaN      NaN      NaN    39.395770   \n",
       "\n",
       "                CTR  \n",
       "count   1000.000000  \n",
       "unique          NaN  \n",
       "top             NaN  \n",
       "freq            NaN  \n",
       "mean       0.109145  \n",
       "std        0.022366  \n",
       "min        0.012975  \n",
       "25%        0.094286  \n",
       "50%        0.108944  \n",
       "75%        0.124238  \n",
       "max        0.172728  "
      ]
     },
     "execution_count": 44,
     "metadata": {},
     "output_type": "execute_result"
    }
   ],
   "source": [
    "df.describe(include='all')"
   ]
  },
  {
   "cell_type": "code",
   "execution_count": 45,
   "metadata": {},
   "outputs": [
    {
     "data": {
      "text/html": [
       "<div>\n",
       "<style scoped>\n",
       "    .dataframe tbody tr th:only-of-type {\n",
       "        vertical-align: middle;\n",
       "    }\n",
       "\n",
       "    .dataframe tbody tr th {\n",
       "        vertical-align: top;\n",
       "    }\n",
       "\n",
       "    .dataframe thead th {\n",
       "        text-align: right;\n",
       "    }\n",
       "</style>\n",
       "<table border=\"1\" class=\"dataframe\">\n",
       "  <thead>\n",
       "    <tr style=\"text-align: right;\">\n",
       "      <th></th>\n",
       "      <th>Unnamed: 0</th>\n",
       "      <th>Age</th>\n",
       "      <th>Location</th>\n",
       "      <th>Device</th>\n",
       "      <th>Variant</th>\n",
       "      <th>Time Spent</th>\n",
       "      <th>CTR</th>\n",
       "    </tr>\n",
       "  </thead>\n",
       "  <tbody>\n",
       "    <tr>\n",
       "      <th>0</th>\n",
       "      <td>0</td>\n",
       "      <td>62</td>\n",
       "      <td>Location2</td>\n",
       "      <td>Device2</td>\n",
       "      <td>Control</td>\n",
       "      <td>13.928669</td>\n",
       "      <td>0.084776</td>\n",
       "    </tr>\n",
       "    <tr>\n",
       "      <th>1</th>\n",
       "      <td>1</td>\n",
       "      <td>18</td>\n",
       "      <td>Location1</td>\n",
       "      <td>Device1</td>\n",
       "      <td>Variant B</td>\n",
       "      <td>11.310518</td>\n",
       "      <td>0.096859</td>\n",
       "    </tr>\n",
       "    <tr>\n",
       "      <th>2</th>\n",
       "      <td>2</td>\n",
       "      <td>21</td>\n",
       "      <td>Location2</td>\n",
       "      <td>Device1</td>\n",
       "      <td>Variant B</td>\n",
       "      <td>24.842100</td>\n",
       "      <td>0.097630</td>\n",
       "    </tr>\n",
       "    <tr>\n",
       "      <th>3</th>\n",
       "      <td>3</td>\n",
       "      <td>21</td>\n",
       "      <td>Location1</td>\n",
       "      <td>Device3</td>\n",
       "      <td>Variant B</td>\n",
       "      <td>20.061300</td>\n",
       "      <td>0.109783</td>\n",
       "    </tr>\n",
       "    <tr>\n",
       "      <th>4</th>\n",
       "      <td>4</td>\n",
       "      <td>57</td>\n",
       "      <td>Location1</td>\n",
       "      <td>Device2</td>\n",
       "      <td>Variant B</td>\n",
       "      <td>34.495503</td>\n",
       "      <td>0.068579</td>\n",
       "    </tr>\n",
       "  </tbody>\n",
       "</table>\n",
       "</div>"
      ],
      "text/plain": [
       "   Unnamed: 0  Age   Location   Device    Variant  Time Spent       CTR\n",
       "0           0   62  Location2  Device2    Control   13.928669  0.084776\n",
       "1           1   18  Location1  Device1  Variant B   11.310518  0.096859\n",
       "2           2   21  Location2  Device1  Variant B   24.842100  0.097630\n",
       "3           3   21  Location1  Device3  Variant B   20.061300  0.109783\n",
       "4           4   57  Location1  Device2  Variant B   34.495503  0.068579"
      ]
     },
     "execution_count": 45,
     "metadata": {},
     "output_type": "execute_result"
    }
   ],
   "source": [
    "df.head()"
   ]
  },
  {
   "cell_type": "code",
   "execution_count": 46,
   "metadata": {},
   "outputs": [
    {
     "data": {
      "text/plain": [
       "Text(0.5, 1.0, 'Age Histogram')"
      ]
     },
     "execution_count": 46,
     "metadata": {},
     "output_type": "execute_result"
    },
    {
     "data": {
      "image/png": "[encoded data removed]",
      "text/plain": [
       "<Figure size 640x480 with 1 Axes>"
      ]
     },
     "metadata": {},
     "output_type": "display_data"
    }
   ],
   "source": [
    "# Based on description of the data, there does not appear to be outliers, but lets confirm with graphs\n",
    "# Since Unnamed appears to act as the index, while it is unnesessary it does not need to be removed\n",
    "sns.histplot(df['Age'])\n",
    "plt.title(\"Age Histogram\")"
   ]
  },
  {
   "cell_type": "code",
   "execution_count": 47,
   "metadata": {},
   "outputs": [
    {
     "data": {
      "text/plain": [
       "Text(0.5, 1.0, 'Location Histogram')"
      ]
     },
     "execution_count": 47,
     "metadata": {},
     "output_type": "execute_result"
    },
    {
     "data": {
      "image/png": "[encoded data removed]",
      "text/plain": [
       "<Figure size 640x480 with 1 Axes>"
      ]
     },
     "metadata": {},
     "output_type": "display_data"
    }
   ],
   "source": [
    "sns.histplot(df['Location'])\n",
    "plt.title(\"Location Histogram\")"
   ]
  },
  {
   "cell_type": "code",
   "execution_count": 48,
   "metadata": {},
   "outputs": [
    {
     "data": {
      "text/plain": [
       "Text(0.5, 1.0, 'Device Histogram')"
      ]
     },
     "execution_count": 48,
     "metadata": {},
     "output_type": "execute_result"
    },
    {
     "data": {
      "image/png": "[encoded data removed]",
      "text/plain": [
       "<Figure size 640x480 with 1 Axes>"
      ]
     },
     "metadata": {},
     "output_type": "display_data"
    }
   ],
   "source": [
    "sns.histplot(df['Device'])\n",
    "plt.title(\"Device Histogram\")"
   ]
  },
  {
   "cell_type": "code",
   "execution_count": 49,
   "metadata": {},
   "outputs": [
    {
     "data": {
      "text/plain": [
       "Text(0.5, 1.0, 'Variant Histogram')"
      ]
     },
     "execution_count": 49,
     "metadata": {},
     "output_type": "execute_result"
    },
    {
     "data": {
      "image/png": "[encoded data removed]",
      "text/plain": [
       "<Figure size 640x480 with 1 Axes>"
      ]
     },
     "metadata": {},
     "output_type": "display_data"
    }
   ],
   "source": [
    "sns.histplot(df['Variant'])\n",
    "plt.title(\"Variant Histogram\")"
   ]
  },
  {
   "cell_type": "code",
   "execution_count": 50,
   "metadata": {},
   "outputs": [
    {
     "data": {
      "text/plain": [
       "Text(0.5, 1.0, 'Time Spent Histogram')"
      ]
     },
     "execution_count": 50,
     "metadata": {},
     "output_type": "execute_result"
    },
    {
     "data": {
      "image/png": "[encoded data removed]",
      "text/plain": [
       "<Figure size 640x480 with 1 Axes>"
      ]
     },
     "metadata": {},
     "output_type": "display_data"
    }
   ],
   "source": [
    "sns.histplot(df['Time Spent'])\n",
    "plt.title(\"Time Spent Histogram\")"
   ]
  },
  {
   "cell_type": "code",
   "execution_count": 51,
   "metadata": {},
   "outputs": [
    {
     "data": {
      "text/plain": [
       "Text(0.5, 1.0, 'CTR Histogram')"
      ]
     },
     "execution_count": 51,
     "metadata": {},
     "output_type": "execute_result"
    },
    {
     "data": {
      "image/png": "[encoded data removed]",
      "text/plain": [
       "<Figure size 640x480 with 1 Axes>"
      ]
     },
     "metadata": {},
     "output_type": "display_data"
    }
   ],
   "source": [
    "sns.histplot(df['CTR'])\n",
    "plt.title(\"CTR Histogram\")"
   ]
  },
  {
   "cell_type": "code",
   "execution_count": 52,
   "metadata": {},
   "outputs": [
    {
     "name": "stdout",
     "output_type": "stream",
     "text": [
      "Variant\n",
      "Control      20.070781\n",
      "Variant A    24.805547\n",
      "Variant B    23.343783\n",
      "Name: Time Spent, dtype: float64\n"
     ]
    }
   ],
   "source": [
    "# When keeping in mind the actual values in the x-axis, there does not appear to be any outliers in the columns.\n",
    "# Now it is time to answer question 1\n",
    "variant_time_spent = df.groupby('Variant')['Time Spent'].mean()\n",
    "print(variant_time_spent)\n"
   ]
  },
  {
   "cell_type": "code",
   "execution_count": 53,
   "metadata": {},
   "outputs": [
    {
     "name": "stdout",
     "output_type": "stream",
     "text": [
      "Variant\n",
      "Control      0.098554\n",
      "Variant A    0.120269\n",
      "Variant B    0.108933\n",
      "Name: CTR, dtype: float64\n"
     ]
    }
   ],
   "source": [
    "variant_CTR = df.groupby('Variant')['CTR'].mean()\n",
    "print(variant_CTR)"
   ]
  },
  {
   "attachments": {},
   "cell_type": "markdown",
   "metadata": {},
   "source": [
    "For question 1, when all three variants were compared to \"Time Spent\" and \"CTR\", the mean values had a lift. The lift exists from Control (Time Spent = 20.070781, CTR = 0.098554), to Variant B (Time Spent = 23.343783, CTR = 0.108933), to Variant A (Time Spent = 24.805547, CTR = 0.120269)."
   ]
  },
  {
   "cell_type": "code",
   "execution_count": 54,
   "metadata": {},
   "outputs": [
    {
     "name": "stdout",
     "output_type": "stream",
     "text": [
      "T-statistic: 12.142363487472364\n",
      "P-value: 8.488565644996449e-31\n"
     ]
    }
   ],
   "source": [
    "# For question 2, since we are comparing the variants to the control group, the t-test would be best\n",
    "variant1 = df[df['Variant'] == 'Variant A']['Time Spent']\n",
    "control_group = df[df['Variant'] == 'Control']['Time Spent']\n",
    "\n",
    "t_stat, p_val = stats.ttest_ind(variant1, control_group)\n",
    "\n",
    "print(f\"T-statistic: {t_stat}\")\n",
    "print(f\"P-value: {p_val}\")"
   ]
  },
  {
   "cell_type": "code",
   "execution_count": 55,
   "metadata": {},
   "outputs": [
    {
     "name": "stdout",
     "output_type": "stream",
     "text": [
      "T-statistic: 8.174237395991806\n",
      "P-value: 1.496358076285182e-15\n"
     ]
    }
   ],
   "source": [
    "variant2 = df[df['Variant'] == 'Variant B']['Time Spent']\n",
    "control_group = df[df['Variant'] == 'Control']['Time Spent']\n",
    "\n",
    "t_stat, p_val = stats.ttest_ind(variant2, control_group)\n",
    "\n",
    "print(f\"T-statistic: {t_stat}\")\n",
    "print(f\"P-value: {p_val}\")"
   ]
  },
  {
   "cell_type": "code",
   "execution_count": 56,
   "metadata": {},
   "outputs": [
    {
     "name": "stdout",
     "output_type": "stream",
     "text": [
      "T-statistic: 13.829424737499187\n",
      "P-value: 1.9602781373243157e-38\n"
     ]
    }
   ],
   "source": [
    "variant1 = df[df['Variant'] == 'Variant A']['CTR']\n",
    "control_group = df[df['Variant'] == 'Control']['CTR']\n",
    "\n",
    "t_stat, p_val = stats.ttest_ind(variant1, control_group)\n",
    "\n",
    "print(f\"T-statistic: {t_stat}\")\n",
    "print(f\"P-value: {p_val}\")"
   ]
  },
  {
   "cell_type": "code",
   "execution_count": 57,
   "metadata": {},
   "outputs": [
    {
     "name": "stdout",
     "output_type": "stream",
     "text": [
      "T-statistic: 6.4718143491783255\n",
      "P-value: 1.8743198199982106e-10\n"
     ]
    }
   ],
   "source": [
    "variant2 = df[df['Variant'] == 'Variant B']['CTR']\n",
    "control_group = df[df['Variant'] == 'Control']['CTR']\n",
    "\n",
    "t_stat, p_val = stats.ttest_ind(variant2, control_group)\n",
    "\n",
    "print(f\"T-statistic: {t_stat}\")\n",
    "print(f\"P-value: {p_val}\")"
   ]
  },
  {
   "attachments": {},
   "cell_type": "markdown",
   "metadata": {},
   "source": [
    "In Question 2, when comparing values of each individual variant to the control group, it can be seen that the P-values are all under 0.05, which is significant. That means that if the test were to be conducted again with new samples, it would likely yield similar results. Each variant when compared to the control group for both \"Time Spent\" and \"CTR\" had a positive and fairly large T-statistic. The comparision showed a positive magnitude and value of the T-statistic, indicating that the respective variant means for \"Time Spent\" and \"CTR\" are larger than the control group. For example, when comparing the \"CTR\" values of \"Variant B\" to \"Control\", it can be seen that the T-statistic is 6.4718143491783255 and the P-value is 1.8743198199982106e-10. This means that the \"Variant B\" mean is larger than the \"Control\" mean. It also means the P-value being lower than 0.05 indicates that this level of difference is significant and repeatable if additional samples are taken. "
   ]
  },
  {
   "cell_type": "code",
   "execution_count": 58,
   "metadata": {},
   "outputs": [
    {
     "name": "stdout",
     "output_type": "stream",
     "text": [
      "T-statistic: 3.6788175394209075\n",
      "P-value: 0.0002534771014765265\n"
     ]
    }
   ],
   "source": [
    "# Before answering question 3, lets compare \"Variant A\" and \"Variant B\" to see which is the better feature\n",
    "variant1 = df[df['Variant'] == 'Variant A']['Time Spent']\n",
    "variant2 = df[df['Variant'] == 'Variant B']['Time Spent']\n",
    "\n",
    "t_stat, p_val = stats.ttest_ind(variant1, variant2)\n",
    "\n",
    "print(f\"T-statistic: {t_stat}\")\n",
    "print(f\"P-value: {p_val}\")"
   ]
  },
  {
   "cell_type": "code",
   "execution_count": 59,
   "metadata": {},
   "outputs": [
    {
     "name": "stdout",
     "output_type": "stream",
     "text": [
      "T-statistic: 7.08499696316128\n",
      "P-value: 3.587180487986577e-12\n"
     ]
    }
   ],
   "source": [
    "variant1 = df[df['Variant'] == 'Variant A']['CTR']\n",
    "variant2 = df[df['Variant'] == 'Variant B']['CTR']\n",
    "\n",
    "t_stat, p_val = stats.ttest_ind(variant1, variant2)\n",
    "\n",
    "print(f\"T-statistic: {t_stat}\")\n",
    "print(f\"P-value: {p_val}\")"
   ]
  },
  {
   "attachments": {},
   "cell_type": "markdown",
   "metadata": {},
   "source": [
    "Question 3\n",
    "\n",
    "When answering question 1 and 2, it could clearly be seen that \"Variant A\" would be the better feature the \"Variant B\". In question 1, when comparing the Variant mean values relative to \"Time Spent\", \"Variant A\" (24.805547 minutes) was larger than \"Variant B\" (23.343783 minutes). This result indicates that \"Variant A\" has a mean value 1.461764 minutes greater than \"Variant B\", which shows that people spend more time on the \"Variant A\" feature. The mean values relative to CTR (Click Through Rate, how far someone goes through the feature with 0 meaning not going through it and 1 being going through the entire feature) indicate the same type of answer. The \"Variant A\" mean was 0.120269 and \"Variant B\" was 0.108933 showing that people go through more of the \"Variant A\" feature. For question 2, when comparing each Variant to the Control group for both Time Spent and CTR, \"Variant A\" had a higher positive T-statistic and a lower p-value. This means the difference between means for \"Variant A\" is larger and is most likely to repeat itself with additional variables. I also added a t-test comparing \"Variant A\" to \"Variant B\" for average Time Spent and CTR, and it showed that \"Variant A\" has a larger mean for both, and this result was significant given the p-values were less than 0.05. \n",
    "\n",
    "Based on everything said above, I would recommend to the engineering team deploy \"Variant A\" and discard \"Variant B\""
   ]
  },
  {
   "attachments": {},
   "cell_type": "markdown",
   "metadata": {},
   "source": [
    "Question 4\n",
    "\n",
    "As mentioned above, the first action I would take is to drop \"Variant B\". It has been proven that \"Variant A\" is the better feature amd it is not worth it to waste resources improving \"Variant B\". Establishing that, I would keep the control group to have them solely focused on \"Variant A\".\n",
    "\n",
    "Now onto the plan, I would roll-out the feature slowly, using experimentation. Using experimentation is important because it will provide feedback on the unique aspects of the feature in relatively short order. Since at this point the control group is focused on \"Variant A\", for a couple of weeks I would monitor which aspects of the Variant the group focuses on to see what they like and dislike. From there, I would adjust the Variant by removing the unused aspects, implementing the adjustments, and roll-out a more complete version of the Variant. Finally, I would montior the Variant for another couple of weeks, and repeat the process until the Variant was at a point that I felt comfortable rolling out 100% of it."
   ]
  },
  {
   "attachments": {},
   "cell_type": "markdown",
   "metadata": {},
   "source": []
  }
 ],
 "metadata": {
  "kernelspec": {
   "display_name": "Python 3",
   "language": "python",
   "name": "python3"
  },
  "language_info": {
   "codemirror_mode": {
    "name": "ipython",
    "version": 3
   },
   "file_extension": ".py",
   "mimetype": "text/x-python",
   "name": "python",
   "nbconvert_exporter": "python",
   "pygments_lexer": "ipython3",
   "version": "3.11.3"
  },
  "orig_nbformat": 4
 },
 "nbformat": 4,
 "nbformat_minor": 2
}
