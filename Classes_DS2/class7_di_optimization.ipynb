{
 "cells": [
  {
   "cell_type": "code",
   "execution_count": 1,
   "metadata": {},
   "outputs": [
    {
     "name": "stdout",
     "output_type": "stream",
     "text": [
      "Collecting tensorflow_datasets\n",
      "  Downloading tensorflow_datasets-4.9.3-py3-none-any.whl (5.0 MB)\n",
      "                                              0.0/5.0 MB ? eta -:--:--\n",
      "                                              0.0/5.0 MB ? eta -:--:--\n",
      "                                              0.0/5.0 MB 435.7 kB/s eta 0:00:12\n",
      "                                              0.0/5.0 MB 393.8 kB/s eta 0:00:13\n",
      "                                              0.1/5.0 MB 435.7 kB/s eta 0:00:12\n",
      "                                              0.1/5.0 MB 599.1 kB/s eta 0:00:09\n",
      "     -                                        0.1/5.0 MB 607.9 kB/s eta 0:00:09\n",
      "     -                                        0.2/5.0 MB 689.9 kB/s eta 0:00:07\n",
      "     --                                       0.3/5.0 MB 952.6 kB/s eta 0:00:05\n",
      "     ----                                     0.6/5.0 MB 1.6 MB/s eta 0:00:03\n",
      "     ------                                   0.8/5.0 MB 2.0 MB/s eta 0:00:03\n",
      "     --------                                 1.1/5.0 MB 2.2 MB/s eta 0:00:02\n",
      "     ---------                                1.1/5.0 MB 2.2 MB/s eta 0:00:02\n",
      "     ----------                               1.3/5.0 MB 2.3 MB/s eta 0:00:02\n",
      "     -----------                              1.5/5.0 MB 2.4 MB/s eta 0:00:02\n",
      "     ------------                             1.6/5.0 MB 2.4 MB/s eta 0:00:02\n",
      "     ------------                             1.6/5.0 MB 2.3 MB/s eta 0:00:02\n",
      "     ------------                             1.6/5.0 MB 2.3 MB/s eta 0:00:02\n",
      "     -------------                            1.6/5.0 MB 2.0 MB/s eta 0:00:02\n",
      "     --------------                           1.8/5.0 MB 2.1 MB/s eta 0:00:02\n",
      "     --------------                           1.9/5.0 MB 2.1 MB/s eta 0:00:02\n",
      "     ---------------                          2.0/5.0 MB 2.1 MB/s eta 0:00:02\n",
      "     -----------------                        2.3/5.0 MB 2.3 MB/s eta 0:00:02\n",
      "     --------------------                     2.6/5.0 MB 2.5 MB/s eta 0:00:01\n",
      "     ----------------------                   2.8/5.0 MB 2.6 MB/s eta 0:00:01\n",
      "     -------------------------                3.2/5.0 MB 2.8 MB/s eta 0:00:01\n",
      "     ---------------------------              3.5/5.0 MB 3.0 MB/s eta 0:00:01\n",
      "     ------------------------------           3.8/5.0 MB 3.1 MB/s eta 0:00:01\n",
      "     --------------------------------         4.1/5.0 MB 3.2 MB/s eta 0:00:01\n",
      "     ---------------------------------        4.2/5.0 MB 3.2 MB/s eta 0:00:01\n",
      "     ----------------------------------       4.4/5.0 MB 3.3 MB/s eta 0:00:01\n",
      "     -------------------------------------    4.7/5.0 MB 3.3 MB/s eta 0:00:01\n",
      "     ---------------------------------------  5.0/5.0 MB 3.4 MB/s eta 0:00:01\n",
      "     ---------------------------------------- 5.0/5.0 MB 3.2 MB/s eta 0:00:00\n",
      "Requirement already satisfied: absl-py in c:\\users\\gabri\\appdata\\local\\programs\\python\\python311\\lib\\site-packages (from tensorflow_datasets) (2.0.0)\n",
      "Collecting array-record (from tensorflow_datasets)\n",
      "  Downloading array_record-0.4.1-py310-none-any.whl (3.0 MB)\n",
      "                                              0.0/3.0 MB ? eta -:--:--\n",
      "     -                                        0.1/3.0 MB 2.2 MB/s eta 0:00:02\n",
      "     ------                                   0.5/3.0 MB 5.2 MB/s eta 0:00:01\n",
      "     ----------                               0.8/3.0 MB 5.3 MB/s eta 0:00:01\n",
      "     -------------                            1.0/3.0 MB 5.1 MB/s eta 0:00:01\n",
      "     ----------------                         1.3/3.0 MB 4.8 MB/s eta 0:00:01\n",
      "     ------------------                       1.4/3.0 MB 4.7 MB/s eta 0:00:01\n",
      "     ------------------                       1.4/3.0 MB 4.7 MB/s eta 0:00:01\n",
      "     ------------------                       1.4/3.0 MB 4.7 MB/s eta 0:00:01\n",
      "     ------------------------                 1.9/3.0 MB 4.2 MB/s eta 0:00:01\n",
      "     ---------------------------              2.1/3.0 MB 4.4 MB/s eta 0:00:01\n",
      "     ----------------------------             2.2/3.0 MB 4.2 MB/s eta 0:00:01\n",
      "     ------------------------------           2.3/3.0 MB 3.8 MB/s eta 0:00:01\n",
      "     --------------------------------         2.4/3.0 MB 3.8 MB/s eta 0:00:01\n",
      "     ----------------------------------       2.6/3.0 MB 3.8 MB/s eta 0:00:01\n",
      "     -----------------------------------      2.6/3.0 MB 3.7 MB/s eta 0:00:01\n",
      "     ------------------------------------     2.7/3.0 MB 3.6 MB/s eta 0:00:01\n",
      "     --------------------------------------   2.9/3.0 MB 3.4 MB/s eta 0:00:01\n",
      "     ---------------------------------------  3.0/3.0 MB 3.4 MB/s eta 0:00:01\n",
      "     ---------------------------------------- 3.0/3.0 MB 3.2 MB/s eta 0:00:00\n",
      "Requirement already satisfied: click in c:\\users\\gabri\\appdata\\local\\programs\\python\\python311\\lib\\site-packages (from tensorflow_datasets) (8.1.7)\n",
      "Collecting dm-tree (from tensorflow_datasets)\n",
      "  Downloading dm_tree-0.1.8-cp311-cp311-win_amd64.whl (101 kB)\n",
      "                                              0.0/101.3 kB ? eta -:--:--\n",
      "     -------------------------------------- 101.3/101.3 kB 2.9 MB/s eta 0:00:00\n",
      "Collecting etils[enp,epath,etree]>=0.9.0 (from tensorflow_datasets)\n",
      "  Downloading etils-1.5.2-py3-none-any.whl (140 kB)\n",
      "                                              0.0/140.6 kB ? eta -:--:--\n",
      "     -------------------------------------- 140.6/140.6 kB 8.7 MB/s eta 0:00:00\n",
      "Requirement already satisfied: numpy in c:\\users\\gabri\\appdata\\local\\programs\\python\\python311\\lib\\site-packages (from tensorflow_datasets) (1.24.3)\n",
      "Collecting promise (from tensorflow_datasets)\n",
      "  Downloading promise-2.3.tar.gz (19 kB)\n",
      "  Preparing metadata (setup.py): started\n",
      "  Preparing metadata (setup.py): finished with status 'done'\n",
      "Requirement already satisfied: protobuf>=3.20 in c:\\users\\gabri\\appdata\\local\\programs\\python\\python311\\lib\\site-packages (from tensorflow_datasets) (4.25.0)\n",
      "Requirement already satisfied: psutil in c:\\users\\gabri\\appdata\\roaming\\python\\python311\\site-packages (from tensorflow_datasets) (5.9.5)\n",
      "Requirement already satisfied: requests>=2.19.0 in c:\\users\\gabri\\appdata\\local\\programs\\python\\python311\\lib\\site-packages (from tensorflow_datasets) (2.31.0)\n",
      "Collecting tensorflow-metadata (from tensorflow_datasets)\n",
      "  Downloading tensorflow_metadata-1.14.0-py3-none-any.whl (28 kB)\n",
      "Requirement already satisfied: termcolor in c:\\users\\gabri\\appdata\\local\\programs\\python\\python311\\lib\\site-packages (from tensorflow_datasets) (2.3.0)\n",
      "Collecting toml (from tensorflow_datasets)\n",
      "  Downloading toml-0.10.2-py2.py3-none-any.whl (16 kB)\n",
      "Requirement already satisfied: tqdm in c:\\users\\gabri\\appdata\\local\\programs\\python\\python311\\lib\\site-packages (from tensorflow_datasets) (4.66.1)\n",
      "Requirement already satisfied: wrapt in c:\\users\\gabri\\appdata\\local\\programs\\python\\python311\\lib\\site-packages (from tensorflow_datasets) (1.14.1)\n",
      "Collecting fsspec (from etils[enp,epath,etree]>=0.9.0->tensorflow_datasets)\n",
      "  Downloading fsspec-2023.10.0-py3-none-any.whl (166 kB)\n",
      "                                              0.0/166.4 kB ? eta -:--:--\n",
      "     -------------------------------------- 166.4/166.4 kB 9.8 MB/s eta 0:00:00\n",
      "Collecting importlib_resources (from etils[enp,epath,etree]>=0.9.0->tensorflow_datasets)\n",
      "  Downloading importlib_resources-6.1.1-py3-none-any.whl (33 kB)\n",
      "Requirement already satisfied: typing_extensions in c:\\users\\gabri\\appdata\\local\\programs\\python\\python311\\lib\\site-packages (from etils[enp,epath,etree]>=0.9.0->tensorflow_datasets) (4.7.1)\n",
      "Collecting zipp (from etils[enp,epath,etree]>=0.9.0->tensorflow_datasets)\n",
      "  Downloading zipp-3.17.0-py3-none-any.whl (7.4 kB)\n",
      "Requirement already satisfied: charset-normalizer<4,>=2 in c:\\users\\gabri\\appdata\\local\\programs\\python\\python311\\lib\\site-packages (from requests>=2.19.0->tensorflow_datasets) (3.2.0)\n",
      "Requirement already satisfied: idna<4,>=2.5 in c:\\users\\gabri\\appdata\\local\\programs\\python\\python311\\lib\\site-packages (from requests>=2.19.0->tensorflow_datasets) (3.4)\n",
      "Requirement already satisfied: urllib3<3,>=1.21.1 in c:\\users\\gabri\\appdata\\local\\programs\\python\\python311\\lib\\site-packages (from requests>=2.19.0->tensorflow_datasets) (2.0.4)\n",
      "Requirement already satisfied: certifi>=2017.4.17 in c:\\users\\gabri\\appdata\\local\\programs\\python\\python311\\lib\\site-packages (from requests>=2.19.0->tensorflow_datasets) (2023.7.22)\n",
      "Requirement already satisfied: colorama in c:\\users\\gabri\\appdata\\roaming\\python\\python311\\site-packages (from click->tensorflow_datasets) (0.4.6)\n",
      "Requirement already satisfied: six in c:\\users\\gabri\\appdata\\roaming\\python\\python311\\site-packages (from promise->tensorflow_datasets) (1.16.0)\n",
      "Collecting absl-py (from tensorflow_datasets)\n",
      "  Downloading absl_py-1.4.0-py3-none-any.whl (126 kB)\n",
      "                                              0.0/126.5 kB ? eta -:--:--\n",
      "     -------------------------------------- 126.5/126.5 kB 3.8 MB/s eta 0:00:00\n",
      "Collecting googleapis-common-protos<2,>=1.52.0 (from tensorflow-metadata->tensorflow_datasets)\n",
      "  Downloading googleapis_common_protos-1.61.0-py2.py3-none-any.whl (230 kB)\n",
      "                                              0.0/230.9 kB ? eta -:--:--\n",
      "     -------------------------------------- 230.9/230.9 kB 7.1 MB/s eta 0:00:00\n",
      "Collecting protobuf>=3.20 (from tensorflow_datasets)\n",
      "  Downloading protobuf-3.20.3-py2.py3-none-any.whl (162 kB)\n",
      "                                              0.0/162.1 kB ? eta -:--:--\n",
      "     -------------------------------------- 162.1/162.1 kB 4.7 MB/s eta 0:00:00\n",
      "Building wheels for collected packages: promise\n",
      "  Building wheel for promise (setup.py): started\n",
      "  Building wheel for promise (setup.py): finished with status 'done'\n",
      "  Created wheel for promise: filename=promise-2.3-py3-none-any.whl size=21544 sha256=823840a0e99f74c202dbb047d6ce5a733dd1a95afaf13d156e04e924231f7a87\n",
      "  Stored in directory: c:\\users\\gabri\\appdata\\local\\pip\\cache\\wheels\\90\\74\\b1\\9b54c896b8d9409e9268329d4d45ede8a8040abe91c8879932\n",
      "Successfully built promise\n",
      "Installing collected packages: dm-tree, zipp, toml, protobuf, promise, importlib_resources, fsspec, etils, absl-py, googleapis-common-protos, tensorflow-metadata, array-record, tensorflow_datasets\n",
      "  Attempting uninstall: protobuf\n",
      "    Found existing installation: protobuf 4.25.0\n",
      "    Uninstalling protobuf-4.25.0:\n",
      "      Successfully uninstalled protobuf-4.25.0\n",
      "  Attempting uninstall: absl-py\n",
      "    Found existing installation: absl-py 2.0.0\n",
      "    Uninstalling absl-py-2.0.0:\n",
      "      Successfully uninstalled absl-py-2.0.0\n",
      "Successfully installed absl-py-1.4.0 array-record-0.4.1 dm-tree-0.1.8 etils-1.5.2 fsspec-2023.10.0 googleapis-common-protos-1.61.0 importlib_resources-6.1.1 promise-2.3 protobuf-3.20.3 tensorflow-metadata-1.14.0 tensorflow_datasets-4.9.3 toml-0.10.2 zipp-3.17.0\n",
      "Note: you may need to restart the kernel to use updated packages.\n"
     ]
    },
    {
     "name": "stderr",
     "output_type": "stream",
     "text": [
      "\n",
      "[notice] A new release of pip is available: 23.1.2 -> 23.3.1\n",
      "[notice] To update, run: python.exe -m pip install --upgrade pip\n"
     ]
    }
   ],
   "source": [
    "pip install tensorflow_datasets"
   ]
  },
  {
   "cell_type": "code",
   "execution_count": 2,
   "metadata": {},
   "outputs": [
    {
     "name": "stderr",
     "output_type": "stream",
     "text": [
      "c:\\Users\\gabri\\AppData\\Local\\Programs\\Python\\Python311\\Lib\\site-packages\\tqdm\\auto.py:21: TqdmWarning: IProgress not found. Please update jupyter and ipywidgets. See https://ipywidgets.readthedocs.io/en/stable/user_install.html\n",
      "  from .autonotebook import tqdm as notebook_tqdm\n"
     ]
    },
    {
     "ename": "ModuleNotFoundError",
     "evalue": "No module named 'resource'",
     "output_type": "error",
     "traceback": [
      "\u001b[1;31m---------------------------------------------------------------------------\u001b[0m",
      "\u001b[1;31mModuleNotFoundError\u001b[0m                       Traceback (most recent call last)",
      "\u001b[1;32mGabrielSpagnuolo15\\schulich_data_science\\class7_di_optimization.ipynb Cell 2\u001b[0m line \u001b[0;36m1\n\u001b[1;32m----> <a href='vscode-notebook-cell://github/GabrielSpagnuolo15/schulich_data_science/class7_di_optimization.ipynb#W1sdnNjb2RlLXZmcw%3D%3D?line=0'>1</a>\u001b[0m \u001b[39mimport\u001b[39;00m \u001b[39mtensorflow_datasets\u001b[39;00m \u001b[39mas\u001b[39;00m \u001b[39mtfds\u001b[39;00m\n",
      "File \u001b[1;32mc:\\Users\\gabri\\AppData\\Local\\Programs\\Python\\Python311\\Lib\\site-packages\\tensorflow_datasets\\__init__.py:43\u001b[0m\n\u001b[0;32m     41\u001b[0m _TIMESTAMP_IMPORT_STARTS \u001b[39m=\u001b[39m time\u001b[39m.\u001b[39mtime()\n\u001b[0;32m     42\u001b[0m \u001b[39mfrom\u001b[39;00m \u001b[39mabsl\u001b[39;00m \u001b[39mimport\u001b[39;00m logging\n\u001b[1;32m---> 43\u001b[0m \u001b[39mimport\u001b[39;00m \u001b[39mtensorflow_datasets\u001b[39;00m\u001b[39m.\u001b[39;00m\u001b[39mcore\u001b[39;00m\u001b[39m.\u001b[39;00m\u001b[39mlogging\u001b[39;00m \u001b[39mas\u001b[39;00m \u001b[39m_tfds_logging\u001b[39;00m\n\u001b[0;32m     44\u001b[0m \u001b[39mfrom\u001b[39;00m \u001b[39mtensorflow_datasets\u001b[39;00m\u001b[39m.\u001b[39;00m\u001b[39mcore\u001b[39;00m\u001b[39m.\u001b[39;00m\u001b[39mlogging\u001b[39;00m \u001b[39mimport\u001b[39;00m call_metadata \u001b[39mas\u001b[39;00m _call_metadata\n\u001b[0;32m     46\u001b[0m _metadata \u001b[39m=\u001b[39m _call_metadata\u001b[39m.\u001b[39mCallMetadata()\n",
      "File \u001b[1;32mc:\\Users\\gabri\\AppData\\Local\\Programs\\Python\\Python311\\Lib\\site-packages\\tensorflow_datasets\\core\\__init__.py:22\u001b[0m\n\u001b[0;32m     18\u001b[0m \u001b[39m# Allow to use `tfds.core.Path` in dataset implementation which seems more\u001b[39;00m\n\u001b[0;32m     19\u001b[0m \u001b[39m# natural than having to import a third party module.\u001b[39;00m\n\u001b[0;32m     20\u001b[0m \u001b[39mfrom\u001b[39;00m \u001b[39metils\u001b[39;00m\u001b[39m.\u001b[39;00m\u001b[39mepath\u001b[39;00m \u001b[39mimport\u001b[39;00m Path\n\u001b[1;32m---> 22\u001b[0m \u001b[39mfrom\u001b[39;00m \u001b[39mtensorflow_datasets\u001b[39;00m\u001b[39m.\u001b[39;00m\u001b[39mcore\u001b[39;00m \u001b[39mimport\u001b[39;00m community\n\u001b[0;32m     23\u001b[0m \u001b[39mfrom\u001b[39;00m \u001b[39mtensorflow_datasets\u001b[39;00m\u001b[39m.\u001b[39;00m\u001b[39mcore\u001b[39;00m\u001b[39m.\u001b[39;00m\u001b[39mdataset_builder\u001b[39;00m \u001b[39mimport\u001b[39;00m BeamBasedBuilder\n\u001b[0;32m     24\u001b[0m \u001b[39mfrom\u001b[39;00m \u001b[39mtensorflow_datasets\u001b[39;00m\u001b[39m.\u001b[39;00m\u001b[39mcore\u001b[39;00m\u001b[39m.\u001b[39;00m\u001b[39mdataset_builder\u001b[39;00m \u001b[39mimport\u001b[39;00m BuilderConfig\n",
      "File \u001b[1;32mc:\\Users\\gabri\\AppData\\Local\\Programs\\Python\\Python311\\Lib\\site-packages\\tensorflow_datasets\\core\\community\\__init__.py:18\u001b[0m\n\u001b[0;32m      1\u001b[0m \u001b[39m# coding=utf-8\u001b[39;00m\n\u001b[0;32m      2\u001b[0m \u001b[39m# Copyright 2023 The TensorFlow Datasets Authors.\u001b[39;00m\n\u001b[0;32m      3\u001b[0m \u001b[39m#\u001b[39;00m\n\u001b[1;32m   (...)\u001b[0m\n\u001b[0;32m     13\u001b[0m \u001b[39m# See the License for the specific language governing permissions and\u001b[39;00m\n\u001b[0;32m     14\u001b[0m \u001b[39m# limitations under the License.\u001b[39;00m\n\u001b[0;32m     16\u001b[0m \u001b[39m\"\"\"Community dataset API.\"\"\"\u001b[39;00m\n\u001b[1;32m---> 18\u001b[0m \u001b[39mfrom\u001b[39;00m \u001b[39mtensorflow_datasets\u001b[39;00m\u001b[39m.\u001b[39;00m\u001b[39mcore\u001b[39;00m\u001b[39m.\u001b[39;00m\u001b[39mcommunity\u001b[39;00m\u001b[39m.\u001b[39;00m\u001b[39mhuggingface_wrapper\u001b[39;00m \u001b[39mimport\u001b[39;00m mock_builtin_to_use_gfile\n\u001b[0;32m     19\u001b[0m \u001b[39mfrom\u001b[39;00m \u001b[39mtensorflow_datasets\u001b[39;00m\u001b[39m.\u001b[39;00m\u001b[39mcore\u001b[39;00m\u001b[39m.\u001b[39;00m\u001b[39mcommunity\u001b[39;00m\u001b[39m.\u001b[39;00m\u001b[39mhuggingface_wrapper\u001b[39;00m \u001b[39mimport\u001b[39;00m mock_huggingface_import\n\u001b[0;32m     20\u001b[0m \u001b[39mfrom\u001b[39;00m \u001b[39mtensorflow_datasets\u001b[39;00m\u001b[39m.\u001b[39;00m\u001b[39mcore\u001b[39;00m\u001b[39m.\u001b[39;00m\u001b[39mcommunity\u001b[39;00m\u001b[39m.\u001b[39;00m\u001b[39mload\u001b[39;00m \u001b[39mimport\u001b[39;00m builder_cls_from_module\n",
      "File \u001b[1;32mc:\\Users\\gabri\\AppData\\Local\\Programs\\Python\\Python311\\Lib\\site-packages\\tensorflow_datasets\\core\\community\\huggingface_wrapper.py:31\u001b[0m\n\u001b[0;32m     28\u001b[0m \u001b[39mfrom\u001b[39;00m \u001b[39munittest\u001b[39;00m \u001b[39mimport\u001b[39;00m mock\n\u001b[0;32m     30\u001b[0m \u001b[39mfrom\u001b[39;00m \u001b[39metils\u001b[39;00m \u001b[39mimport\u001b[39;00m epath\n\u001b[1;32m---> 31\u001b[0m \u001b[39mfrom\u001b[39;00m \u001b[39mtensorflow_datasets\u001b[39;00m\u001b[39m.\u001b[39;00m\u001b[39mcore\u001b[39;00m \u001b[39mimport\u001b[39;00m dataset_builder\n\u001b[0;32m     32\u001b[0m \u001b[39mfrom\u001b[39;00m \u001b[39mtensorflow_datasets\u001b[39;00m\u001b[39m.\u001b[39;00m\u001b[39mcore\u001b[39;00m \u001b[39mimport\u001b[39;00m dataset_info\n\u001b[0;32m     33\u001b[0m \u001b[39mfrom\u001b[39;00m \u001b[39mtensorflow_datasets\u001b[39;00m\u001b[39m.\u001b[39;00m\u001b[39mcore\u001b[39;00m \u001b[39mimport\u001b[39;00m download\n",
      "File \u001b[1;32mc:\\Users\\gabri\\AppData\\Local\\Programs\\Python\\Python311\\Lib\\site-packages\\tensorflow_datasets\\core\\dataset_builder.py:44\u001b[0m\n\u001b[0;32m     42\u001b[0m \u001b[39mfrom\u001b[39;00m \u001b[39mtensorflow_datasets\u001b[39;00m\u001b[39m.\u001b[39;00m\u001b[39mcore\u001b[39;00m \u001b[39mimport\u001b[39;00m reader \u001b[39mas\u001b[39;00m reader_lib\n\u001b[0;32m     43\u001b[0m \u001b[39mfrom\u001b[39;00m \u001b[39mtensorflow_datasets\u001b[39;00m\u001b[39m.\u001b[39;00m\u001b[39mcore\u001b[39;00m \u001b[39mimport\u001b[39;00m registered\n\u001b[1;32m---> 44\u001b[0m \u001b[39mfrom\u001b[39;00m \u001b[39mtensorflow_datasets\u001b[39;00m\u001b[39m.\u001b[39;00m\u001b[39mcore\u001b[39;00m \u001b[39mimport\u001b[39;00m split_builder \u001b[39mas\u001b[39;00m split_builder_lib\n\u001b[0;32m     45\u001b[0m \u001b[39mfrom\u001b[39;00m \u001b[39mtensorflow_datasets\u001b[39;00m\u001b[39m.\u001b[39;00m\u001b[39mcore\u001b[39;00m \u001b[39mimport\u001b[39;00m splits \u001b[39mas\u001b[39;00m splits_lib\n\u001b[0;32m     46\u001b[0m \u001b[39mfrom\u001b[39;00m \u001b[39mtensorflow_datasets\u001b[39;00m\u001b[39m.\u001b[39;00m\u001b[39mcore\u001b[39;00m \u001b[39mimport\u001b[39;00m tf_compat\n",
      "File \u001b[1;32mc:\\Users\\gabri\\AppData\\Local\\Programs\\Python\\Python311\\Lib\\site-packages\\tensorflow_datasets\\core\\split_builder.py:37\u001b[0m\n\u001b[0;32m     35\u001b[0m \u001b[39mfrom\u001b[39;00m \u001b[39mtensorflow_datasets\u001b[39;00m\u001b[39m.\u001b[39;00m\u001b[39mcore\u001b[39;00m \u001b[39mimport\u001b[39;00m splits \u001b[39mas\u001b[39;00m splits_lib\n\u001b[0;32m     36\u001b[0m \u001b[39mfrom\u001b[39;00m \u001b[39mtensorflow_datasets\u001b[39;00m\u001b[39m.\u001b[39;00m\u001b[39mcore\u001b[39;00m \u001b[39mimport\u001b[39;00m utils\n\u001b[1;32m---> 37\u001b[0m \u001b[39mfrom\u001b[39;00m \u001b[39mtensorflow_datasets\u001b[39;00m\u001b[39m.\u001b[39;00m\u001b[39mcore\u001b[39;00m \u001b[39mimport\u001b[39;00m writer \u001b[39mas\u001b[39;00m writer_lib\n\u001b[0;32m     38\u001b[0m \u001b[39mfrom\u001b[39;00m \u001b[39mtensorflow_datasets\u001b[39;00m\u001b[39m.\u001b[39;00m\u001b[39mcore\u001b[39;00m\u001b[39m.\u001b[39;00m\u001b[39mutils\u001b[39;00m \u001b[39mimport\u001b[39;00m shard_utils\n\u001b[0;32m     40\u001b[0m \u001b[39mif\u001b[39;00m typing\u001b[39m.\u001b[39mTYPE_CHECKING:\n",
      "File \u001b[1;32mc:\\Users\\gabri\\AppData\\Local\\Programs\\Python\\Python311\\Lib\\site-packages\\tensorflow_datasets\\core\\writer.py:33\u001b[0m\n\u001b[0;32m     31\u001b[0m \u001b[39mfrom\u001b[39;00m \u001b[39mtensorflow_datasets\u001b[39;00m\u001b[39m.\u001b[39;00m\u001b[39mcore\u001b[39;00m \u001b[39mimport\u001b[39;00m lazy_imports_lib\n\u001b[0;32m     32\u001b[0m \u001b[39mfrom\u001b[39;00m \u001b[39mtensorflow_datasets\u001b[39;00m\u001b[39m.\u001b[39;00m\u001b[39mcore\u001b[39;00m \u001b[39mimport\u001b[39;00m naming\n\u001b[1;32m---> 33\u001b[0m \u001b[39mfrom\u001b[39;00m \u001b[39mtensorflow_datasets\u001b[39;00m\u001b[39m.\u001b[39;00m\u001b[39mcore\u001b[39;00m \u001b[39mimport\u001b[39;00m shuffle\n\u001b[0;32m     34\u001b[0m \u001b[39mfrom\u001b[39;00m \u001b[39mtensorflow_datasets\u001b[39;00m\u001b[39m.\u001b[39;00m\u001b[39mcore\u001b[39;00m \u001b[39mimport\u001b[39;00m utils\n\u001b[0;32m     35\u001b[0m \u001b[39mfrom\u001b[39;00m \u001b[39mtensorflow_datasets\u001b[39;00m\u001b[39m.\u001b[39;00m\u001b[39mcore\u001b[39;00m\u001b[39m.\u001b[39;00m\u001b[39mutils\u001b[39;00m \u001b[39mimport\u001b[39;00m file_utils\n",
      "File \u001b[1;32mc:\\Users\\gabri\\AppData\\Local\\Programs\\Python\\Python311\\Lib\\site-packages\\tensorflow_datasets\\core\\shuffle.py:20\u001b[0m\n\u001b[0;32m     18\u001b[0m \u001b[39mimport\u001b[39;00m \u001b[39mmath\u001b[39;00m\n\u001b[0;32m     19\u001b[0m \u001b[39mimport\u001b[39;00m \u001b[39mos\u001b[39;00m\n\u001b[1;32m---> 20\u001b[0m \u001b[39mimport\u001b[39;00m \u001b[39mresource\u001b[39;00m\n\u001b[0;32m     21\u001b[0m \u001b[39mimport\u001b[39;00m \u001b[39mstruct\u001b[39;00m\n\u001b[0;32m     22\u001b[0m \u001b[39mfrom\u001b[39;00m \u001b[39mtyping\u001b[39;00m \u001b[39mimport\u001b[39;00m Iterator, List, Optional\n",
      "\u001b[1;31mModuleNotFoundError\u001b[0m: No module named 'resource'"
     ]
    }
   ],
   "source": [
    "import tensorflow_datasets as tfds"
   ]
  },
  {
   "cell_type": "code",
   "execution_count": 5,
   "metadata": {},
   "outputs": [],
   "source": [
    "import tensorflow as tf\n",
    "from sklearn.ensemble import RandomForestClassifier\n",
    "from sklearn.linear_model import LogisticRegression\n",
    "from sklearn.metrics import accuracy_score\n",
    "from tensorflow.keras.datasets import mnist"
   ]
  },
  {
   "cell_type": "code",
   "execution_count": 6,
   "metadata": {},
   "outputs": [
    {
     "ename": "NameError",
     "evalue": "name 'tfds' is not defined",
     "output_type": "error",
     "traceback": [
      "\u001b[1;31m---------------------------------------------------------------------------\u001b[0m",
      "\u001b[1;31mNameError\u001b[0m                                 Traceback (most recent call last)",
      "\u001b[1;32mGabrielSpagnuolo15\\schulich_data_science\\class7_di_optimization.ipynb Cell 4\u001b[0m line \u001b[0;36m1\n\u001b[1;32m----> <a href='vscode-notebook-cell://github/GabrielSpagnuolo15/schulich_data_science/class7_di_optimization.ipynb#W2sdnNjb2RlLXZmcw%3D%3D?line=0'>1</a>\u001b[0m (train, test), info \u001b[39m=\u001b[39m tfds\u001b[39m.\u001b[39mload(\u001b[39m'\u001b[39m\u001b[39mmnist\u001b[39m\u001b[39m'\u001b[39m,\n\u001b[0;32m      <a href='vscode-notebook-cell://github/GabrielSpagnuolo15/schulich_data_science/class7_di_optimization.ipynb#W2sdnNjb2RlLXZmcw%3D%3D?line=1'>2</a>\u001b[0m                                 split \u001b[39m=\u001b[39m [\u001b[39m'\u001b[39m\u001b[39mtrain\u001b[39m\u001b[39m'\u001b[39m,\u001b[39m'\u001b[39m\u001b[39mtest\u001b[39m\u001b[39m'\u001b[39m])\n",
      "\u001b[1;31mNameError\u001b[0m: name 'tfds' is not defined"
     ]
    }
   ],
   "source": [
    "(train, test), info = tfds.load('mnist',\n",
    "                                split = ['train','test'])"
   ]
  },
  {
   "cell_type": "code",
   "execution_count": null,
   "metadata": {},
   "outputs": [],
   "source": [
    "(train, test) = tfds.load('mnist',\n",
    "                                split = ['train','test'])"
   ]
  },
  {
   "cell_type": "code",
   "execution_count": 7,
   "metadata": {},
   "outputs": [],
   "source": [
    "import numpy as np\n",
    "import pandas as pd\n",
    "import seaborn as sns\n",
    "import matplotlib.pyplot as plt"
   ]
  },
  {
   "cell_type": "code",
   "execution_count": 8,
   "metadata": {},
   "outputs": [],
   "source": [
    "from sklearn.preprocessing import StandardScaler, OneHotEncoder\n",
    "\n",
    "def load_dataset(train_size, test_size):\n",
    "    train, test = tf.keras.datasets.mnist.load_data()\n",
    "\n",
    "    # take a sample\n",
    "    train_idx = np.random.randint(low=0, high=train[0].shape[0], size=train_size)\n",
    "    test_idx = np.random.randint(low=0, high=test[0].shape[0], size=test_size)\n",
    "    X_train = train[0][train_idx].reshape(-1,28*28)\n",
    "    y_train = train[1][train_idx].reshape(-1,1)\n",
    "    X_test = test[0][test_idx].reshape(-1,28*28)\n",
    "    y_test = test[1][test_idx].reshape(-1,1)\n",
    "\n",
    "    scale = StandardScaler()\n",
    "    X_train = scale.fit_transform(X_train)\n",
    "    X_test = scale.transform(X_test)\n",
    "\n",
    "    OH = OneHotEncoder(categories='auto', sparse=False)\n",
    "    y_train = OH.fit_transform(y_train)\n",
    "    y_test = OH.transform(y_test)\n",
    "\n",
    "    print('X_train:',X_train.shape)\n",
    "    print('y_train:',y_train.shape)\n",
    "    print('X_test:',X_test.shape)\n",
    "    print('y_test:',y_test.shape)\n",
    "    print('Min:', X_train.min())\n",
    "    print('Max:', X_train.max())\n",
    "\n",
    "    return X_train, X_test, y_train, y_test"
   ]
  },
  {
   "cell_type": "code",
   "execution_count": 9,
   "metadata": {},
   "outputs": [
    {
     "name": "stdout",
     "output_type": "stream",
     "text": [
      "X_train: (1000, 784)\n",
      "y_train: (1000, 10)\n",
      "X_test: (1000, 784)\n",
      "y_test: (1000, 10)\n",
      "Min: -1.3546678628990743\n",
      "Max: 31.606961258559124\n"
     ]
    },
    {
     "name": "stderr",
     "output_type": "stream",
     "text": [
      "c:\\Users\\gabri\\AppData\\Local\\Programs\\Python\\Python311\\Lib\\site-packages\\sklearn\\preprocessing\\_encoders.py:868: FutureWarning: `sparse` was renamed to `sparse_output` in version 1.2 and will be removed in 1.4. `sparse_output` is ignored unless you leave `sparse` to its default value.\n",
      "  warnings.warn(\n"
     ]
    }
   ],
   "source": [
    "X_train, X_test, y_train, y_test = load_dataset(1000,1000)"
   ]
  },
  {
   "cell_type": "code",
   "execution_count": 10,
   "metadata": {},
   "outputs": [
    {
     "name": "stdout",
     "output_type": "stream",
     "text": [
      "X_train: (60000, 784)\n",
      "y_train: (60000, 10)\n",
      "X_test: (10000, 784)\n",
      "y_test: (10000, 10)\n",
      "Min: -1.2725438360100514\n",
      "Max: 244.94693302869095\n"
     ]
    },
    {
     "name": "stderr",
     "output_type": "stream",
     "text": [
      "c:\\Users\\gabri\\AppData\\Local\\Programs\\Python\\Python311\\Lib\\site-packages\\sklearn\\preprocessing\\_encoders.py:868: FutureWarning: `sparse` was renamed to `sparse_output` in version 1.2 and will be removed in 1.4. `sparse_output` is ignored unless you leave `sparse` to its default value.\n",
      "  warnings.warn(\n"
     ]
    }
   ],
   "source": [
    "X_train, X_test, y_train, y_test = load_dataset(60000,10000)"
   ]
  },
  {
   "cell_type": "markdown",
   "metadata": {},
   "source": [
    "### Optimizing at the Initialization Stage"
   ]
  },
  {
   "cell_type": "code",
   "execution_count": 14,
   "metadata": {},
   "outputs": [],
   "source": [
    "from tensorflow.keras import layers"
   ]
  },
  {
   "cell_type": "code",
   "execution_count": 15,
   "metadata": {},
   "outputs": [],
   "source": [
    "def simple_model(initializer, activation='relu'):\n",
    "    return tf.keras.Sequential([layers.Dense(32, activation, input_shape=(784,), kernel_initializer=initializer),\n",
    "                                layers.Dense(32, activation, kernel_initializer=initializer),\n",
    "                                layers.Dense(32, activation, kernel_initializer=initializer),\n",
    "                                layers.Dense(32, activation, kernel_initializer=initializer),\n",
    "                                layers.Dense(10, activation = 'softmax', kernel_initializer=tf.keras.initializers.glorot_normal())\n",
    "\n",
    "\n",
    "\n",
    "    ])"
   ]
  },
  {
   "cell_type": "code",
   "execution_count": 16,
   "metadata": {},
   "outputs": [],
   "source": [
    "init = tf.initializers.zeros()\n",
    "activate = 'relu'\n",
    "optimizer = tf.keras.optimizers.SGD(learning_rate=0.01)"
   ]
  },
  {
   "cell_type": "code",
   "execution_count": 17,
   "metadata": {},
   "outputs": [],
   "source": [
    "model_zeros = simple_model(init, activate)"
   ]
  },
  {
   "cell_type": "code",
   "execution_count": 18,
   "metadata": {},
   "outputs": [
    {
     "name": "stdout",
     "output_type": "stream",
     "text": [
      "Epoch 1/10\n",
      "19/19 [==============================] - 5s 100ms/step - loss: 2.3026 - accuracy: 0.1114 - val_loss: 2.3025 - val_accuracy: 0.1188\n",
      "Epoch 2/10\n",
      "19/19 [==============================] - 1s 38ms/step - loss: 2.3025 - accuracy: 0.1129 - val_loss: 2.3024 - val_accuracy: 0.1188\n",
      "Epoch 3/10\n",
      "19/19 [==============================] - 1s 38ms/step - loss: 2.3024 - accuracy: 0.1129 - val_loss: 2.3024 - val_accuracy: 0.1188\n",
      "Epoch 4/10\n",
      "19/19 [==============================] - 1s 36ms/step - loss: 2.3024 - accuracy: 0.1129 - val_loss: 2.3023 - val_accuracy: 0.1188\n",
      "Epoch 5/10\n",
      "19/19 [==============================] - 1s 36ms/step - loss: 2.3023 - accuracy: 0.1129 - val_loss: 2.3022 - val_accuracy: 0.1188\n",
      "Epoch 6/10\n",
      "19/19 [==============================] - 1s 38ms/step - loss: 2.3023 - accuracy: 0.1129 - val_loss: 2.3022 - val_accuracy: 0.1188\n",
      "Epoch 7/10\n",
      "19/19 [==============================] - 1s 38ms/step - loss: 2.3022 - accuracy: 0.1129 - val_loss: 2.3021 - val_accuracy: 0.1188\n",
      "Epoch 8/10\n",
      "19/19 [==============================] - 1s 38ms/step - loss: 2.3022 - accuracy: 0.1129 - val_loss: 2.3020 - val_accuracy: 0.1188\n",
      "Epoch 9/10\n",
      "19/19 [==============================] - 1s 38ms/step - loss: 2.3021 - accuracy: 0.1129 - val_loss: 2.3020 - val_accuracy: 0.1188\n",
      "Epoch 10/10\n",
      "19/19 [==============================] - 1s 35ms/step - loss: 2.3021 - accuracy: 0.1129 - val_loss: 2.3019 - val_accuracy: 0.1188\n"
     ]
    },
    {
     "data": {
      "text/plain": [
       "<keras.src.callbacks.History at 0x187033c9410>"
      ]
     },
     "execution_count": 18,
     "metadata": {},
     "output_type": "execute_result"
    }
   ],
   "source": [
    "model_zeros.compile(optimizer=optimizer, loss='categorical_crossentropy', metrics=['accuracy'])\n",
    "model_zeros.fit(X_train, y_train, epochs=10, batch_size=3200, validation_data=(X_test, y_test))"
   ]
  },
  {
   "cell_type": "code",
   "execution_count": 19,
   "metadata": {},
   "outputs": [
    {
     "name": "stderr",
     "output_type": "stream",
     "text": [
      "c:\\Users\\gabri\\AppData\\Local\\Programs\\Python\\Python311\\Lib\\site-packages\\keras\\src\\initializers\\initializers.py:120: UserWarning: The initializer RandomNormal is unseeded and being called multiple times, which will return identical values each time (even if the initializer is unseeded). Please update your code to provide a seed to the initializer, or avoid using the same initializer instance more than once.\n",
      "  warnings.warn(\n"
     ]
    },
    {
     "name": "stdout",
     "output_type": "stream",
     "text": [
      "Epoch 1/10\n",
      "19/19 [==============================] - 4s 90ms/step - loss: 2.3034 - accuracy: 0.0754 - val_loss: 2.3031 - val_accuracy: 0.0811\n",
      "Epoch 2/10\n",
      "19/19 [==============================] - 1s 38ms/step - loss: 2.3027 - accuracy: 0.0882 - val_loss: 2.3025 - val_accuracy: 0.1106\n",
      "Epoch 3/10\n",
      "19/19 [==============================] - 1s 36ms/step - loss: 2.3022 - accuracy: 0.1134 - val_loss: 2.3020 - val_accuracy: 0.1264\n",
      "Epoch 4/10\n",
      "19/19 [==============================] - 1s 38ms/step - loss: 2.3017 - accuracy: 0.1321 - val_loss: 2.3016 - val_accuracy: 0.1456\n",
      "Epoch 5/10\n",
      "19/19 [==============================] - 1s 38ms/step - loss: 2.3013 - accuracy: 0.1464 - val_loss: 2.3012 - val_accuracy: 0.1581\n",
      "Epoch 6/10\n",
      "19/19 [==============================] - 1s 37ms/step - loss: 2.3010 - accuracy: 0.1531 - val_loss: 2.3008 - val_accuracy: 0.1634\n",
      "Epoch 7/10\n",
      "19/19 [==============================] - 1s 37ms/step - loss: 2.3006 - accuracy: 0.1598 - val_loss: 2.3005 - val_accuracy: 0.1652\n",
      "Epoch 8/10\n",
      "19/19 [==============================] - 1s 38ms/step - loss: 2.3003 - accuracy: 0.1653 - val_loss: 2.3002 - val_accuracy: 0.1683\n",
      "Epoch 9/10\n",
      "19/19 [==============================] - 1s 37ms/step - loss: 2.3000 - accuracy: 0.1710 - val_loss: 2.2999 - val_accuracy: 0.1736\n",
      "Epoch 10/10\n",
      "19/19 [==============================] - 1s 35ms/step - loss: 2.2998 - accuracy: 0.1735 - val_loss: 2.2996 - val_accuracy: 0.1751\n"
     ]
    },
    {
     "data": {
      "text/plain": [
       "<keras.src.callbacks.History at 0x18703a1f890>"
      ]
     },
     "execution_count": 19,
     "metadata": {},
     "output_type": "execute_result"
    }
   ],
   "source": [
    "init = tf.initializers.random_normal()\n",
    "activate = 'relu'\n",
    "optimizer = tf.keras.optimizers.SGD(learning_rate=0.01)\n",
    "model_normal = simple_model(init, activate)\n",
    "model_normal.compile(optimizer=optimizer, loss='categorical_crossentropy', metrics=['accuracy'])\n",
    "model_normal.fit(X_train, y_train, epochs=10, batch_size=3200, validation_data=(X_test, y_test))"
   ]
  },
  {
   "cell_type": "code",
   "execution_count": 20,
   "metadata": {},
   "outputs": [
    {
     "name": "stderr",
     "output_type": "stream",
     "text": [
      "c:\\Users\\gabri\\AppData\\Local\\Programs\\Python\\Python311\\Lib\\site-packages\\keras\\src\\initializers\\initializers.py:120: UserWarning: The initializer GlorotUniform is unseeded and being called multiple times, which will return identical values each time (even if the initializer is unseeded). Please update your code to provide a seed to the initializer, or avoid using the same initializer instance more than once.\n",
      "  warnings.warn(\n"
     ]
    },
    {
     "name": "stdout",
     "output_type": "stream",
     "text": [
      "Epoch 1/10\n",
      "19/19 [==============================] - 4s 86ms/step - loss: 2.2945 - accuracy: 0.1276 - val_loss: 2.2758 - val_accuracy: 0.1430\n",
      "Epoch 2/10\n",
      "19/19 [==============================] - 1s 37ms/step - loss: 2.2508 - accuracy: 0.1587 - val_loss: 2.2355 - val_accuracy: 0.1755\n",
      "Epoch 3/10\n",
      "19/19 [==============================] - 1s 36ms/step - loss: 2.2115 - accuracy: 0.1946 - val_loss: 2.1968 - val_accuracy: 0.2136\n",
      "Epoch 4/10\n",
      "19/19 [==============================] - 1s 38ms/step - loss: 2.1719 - accuracy: 0.2344 - val_loss: 2.1570 - val_accuracy: 0.2553\n",
      "Epoch 5/10\n",
      "19/19 [==============================] - 1s 36ms/step - loss: 2.1305 - accuracy: 0.2792 - val_loss: 2.1151 - val_accuracy: 0.3074\n",
      "Epoch 6/10\n",
      "19/19 [==============================] - 1s 36ms/step - loss: 2.0869 - accuracy: 0.3268 - val_loss: 2.0707 - val_accuracy: 0.3525\n",
      "Epoch 7/10\n",
      "19/19 [==============================] - 1s 36ms/step - loss: 2.0407 - accuracy: 0.3715 - val_loss: 2.0225 - val_accuracy: 0.4014\n",
      "Epoch 8/10\n",
      "19/19 [==============================] - 1s 35ms/step - loss: 1.9905 - accuracy: 0.4087 - val_loss: 1.9687 - val_accuracy: 0.4282\n",
      "Epoch 9/10\n",
      "19/19 [==============================] - 1s 35ms/step - loss: 1.9345 - accuracy: 0.4366 - val_loss: 1.9075 - val_accuracy: 0.4524\n",
      "Epoch 10/10\n",
      "19/19 [==============================] - 1s 34ms/step - loss: 1.8708 - accuracy: 0.4610 - val_loss: 1.8373 - val_accuracy: 0.4727\n"
     ]
    },
    {
     "data": {
      "text/plain": [
       "<keras.src.callbacks.History at 0x18703f613d0>"
      ]
     },
     "execution_count": 20,
     "metadata": {},
     "output_type": "execute_result"
    }
   ],
   "source": [
    "init = tf.initializers.glorot_uniform()\n",
    "activate = 'relu'\n",
    "optimizer = tf.keras.optimizers.SGD(learning_rate=0.01)\n",
    "model_glorotu = simple_model(init, activate)\n",
    "model_glorotu.compile(optimizer=optimizer, loss='categorical_crossentropy', metrics=['accuracy'])\n",
    "model_glorotu.fit(X_train, y_train, epochs=10, batch_size=3200, validation_data=(X_test, y_test))"
   ]
  },
  {
   "cell_type": "code",
   "execution_count": 21,
   "metadata": {},
   "outputs": [
    {
     "name": "stderr",
     "output_type": "stream",
     "text": [
      "c:\\Users\\gabri\\AppData\\Local\\Programs\\Python\\Python311\\Lib\\site-packages\\keras\\src\\initializers\\initializers.py:120: UserWarning: The initializer HeUniform is unseeded and being called multiple times, which will return identical values each time (even if the initializer is unseeded). Please update your code to provide a seed to the initializer, or avoid using the same initializer instance more than once.\n",
      "  warnings.warn(\n"
     ]
    },
    {
     "name": "stdout",
     "output_type": "stream",
     "text": [
      "Epoch 1/10\n",
      "19/19 [==============================] - 5s 100ms/step - loss: 2.3826 - accuracy: 0.1602 - val_loss: 2.2558 - val_accuracy: 0.2128\n",
      "Epoch 2/10\n",
      "19/19 [==============================] - 1s 40ms/step - loss: 2.2048 - accuracy: 0.2381 - val_loss: 2.1111 - val_accuracy: 0.2962\n",
      "Epoch 3/10\n",
      "19/19 [==============================] - 1s 40ms/step - loss: 2.0736 - accuracy: 0.3172 - val_loss: 1.9798 - val_accuracy: 0.3718\n",
      "Epoch 4/10\n",
      "19/19 [==============================] - 1s 39ms/step - loss: 1.9449 - accuracy: 0.3920 - val_loss: 1.8445 - val_accuracy: 0.4471\n",
      "Epoch 5/10\n",
      "19/19 [==============================] - 1s 37ms/step - loss: 1.8083 - accuracy: 0.4657 - val_loss: 1.6980 - val_accuracy: 0.5243\n",
      "Epoch 6/10\n",
      "19/19 [==============================] - 1s 35ms/step - loss: 1.6600 - accuracy: 0.5390 - val_loss: 1.5386 - val_accuracy: 0.5908\n",
      "Epoch 7/10\n",
      "19/19 [==============================] - 1s 34ms/step - loss: 1.5010 - accuracy: 0.6031 - val_loss: 1.3736 - val_accuracy: 0.6511\n",
      "Epoch 8/10\n",
      "19/19 [==============================] - 1s 35ms/step - loss: 1.3412 - accuracy: 0.6518 - val_loss: 1.2165 - val_accuracy: 0.6937\n",
      "Epoch 9/10\n",
      "19/19 [==============================] - 1s 37ms/step - loss: 1.1937 - accuracy: 0.6895 - val_loss: 1.0796 - val_accuracy: 0.7188\n",
      "Epoch 10/10\n",
      "19/19 [==============================] - 1s 36ms/step - loss: 1.0671 - accuracy: 0.7156 - val_loss: 0.9664 - val_accuracy: 0.7434\n"
     ]
    },
    {
     "data": {
      "text/plain": [
       "<keras.src.callbacks.History at 0x1870557da50>"
      ]
     },
     "execution_count": 21,
     "metadata": {},
     "output_type": "execute_result"
    }
   ],
   "source": [
    "init = tf.initializers.he_uniform()\n",
    "activate = 'relu'\n",
    "optimizer = tf.keras.optimizers.SGD(learning_rate=0.01)\n",
    "model_heu = simple_model(init, activate)\n",
    "model_heu.compile(optimizer=optimizer, loss='categorical_crossentropy', metrics=['accuracy'])\n",
    "model_heu.fit(X_train, y_train, epochs=10, batch_size=3200, validation_data=(X_test, y_test))"
   ]
  },
  {
   "cell_type": "code",
   "execution_count": 22,
   "metadata": {},
   "outputs": [
    {
     "data": {
      "text/plain": [
       "Text(0, 0.5, 'Validation Accuracy')"
      ]
     },
     "execution_count": 22,
     "metadata": {},
     "output_type": "execute_result"
    },
    {
     "data": {
      "image/png": "[encoded data removed]",
      "text/plain": [
       "<Figure size 640x480 with 1 Axes>"
      ]
     },
     "metadata": {},
     "output_type": "display_data"
    }
   ],
   "source": [
    "for i in [model_heu, model_normal, model_glorotu, model_zeros]:\n",
    "    plt.plot(i.history.history['val_accuracy'], label=i.get_config()['layers'][1]['config']['kernel_initializer']['class_name'])\n",
    "\n",
    "plt.legend()\n",
    "plt.xlabel('Epoch')\n",
    "plt.ylabel('Validation Accuracy')"
   ]
  },
  {
   "cell_type": "code",
   "execution_count": 23,
   "metadata": {},
   "outputs": [],
   "source": [
    "def simple_model_bn(initializer = 'he_uniform', activation='relu'):\n",
    "    return tf.keras.Sequential([layers.Dense(32, activation, input_shape=(784,), kernel_initializer=initializer),\n",
    "                                layers.BatchNormalization(trainable=True, scale=True, center=True),\n",
    "                                layers.Dense(32, activation, kernel_initializer=initializer),\n",
    "                                layers.BatchNormalization(trainable=True, scale=True, center=True),\n",
    "                                layers.Dense(32, activation, kernel_initializer=initializer),\n",
    "                                layers.BatchNormalization(trainable=True, scale=True, center=True),\n",
    "                                layers.Dense(32, activation, kernel_initializer=initializer),\n",
    "                                layers.BatchNormalization(trainable=True, scale=True, center=True),\n",
    "                                layers.Dense(10, activation = 'softmax', kernel_initializer=tf.keras.initializers.glorot_normal())\n",
    "\n",
    "\n",
    "\n",
    "    ])"
   ]
  },
  {
   "cell_type": "code",
   "execution_count": 25,
   "metadata": {},
   "outputs": [
    {
     "name": "stdout",
     "output_type": "stream",
     "text": [
      "Model: \"sequential_5\"\n",
      "_________________________________________________________________\n",
      " Layer (type)                Output Shape              Param #   \n",
      "=================================================================\n",
      " dense_25 (Dense)            (None, 32)                25120     \n",
      "                                                                 \n",
      " batch_normalization_4 (Bat  (None, 32)                128       \n",
      " chNormalization)                                                \n",
      "                                                                 \n",
      " dense_26 (Dense)            (None, 32)                1056      \n",
      "                                                                 \n",
      " batch_normalization_5 (Bat  (None, 32)                128       \n",
      " chNormalization)                                                \n",
      "                                                                 \n",
      " dense_27 (Dense)            (None, 32)                1056      \n",
      "                                                                 \n",
      " batch_normalization_6 (Bat  (None, 32)                128       \n",
      " chNormalization)                                                \n",
      "                                                                 \n",
      " dense_28 (Dense)            (None, 32)                1056      \n",
      "                                                                 \n",
      " batch_normalization_7 (Bat  (None, 32)                128       \n",
      " chNormalization)                                                \n",
      "                                                                 \n",
      " dense_29 (Dense)            (None, 10)                330       \n",
      "                                                                 \n",
      "=================================================================\n",
      "Total params: 29130 (113.79 KB)\n",
      "Trainable params: 28874 (112.79 KB)\n",
      "Non-trainable params: 256 (1.00 KB)\n",
      "_________________________________________________________________\n"
     ]
    }
   ],
   "source": [
    "simple_model_bn().summary()"
   ]
  },
  {
   "cell_type": "code",
   "execution_count": 26,
   "metadata": {},
   "outputs": [
    {
     "name": "stderr",
     "output_type": "stream",
     "text": [
      "c:\\Users\\gabri\\AppData\\Local\\Programs\\Python\\Python311\\Lib\\site-packages\\keras\\src\\initializers\\initializers.py:120: UserWarning: The initializer RandomNormal is unseeded and being called multiple times, which will return identical values each time (even if the initializer is unseeded). Please update your code to provide a seed to the initializer, or avoid using the same initializer instance more than once.\n",
      "  warnings.warn(\n"
     ]
    },
    {
     "name": "stdout",
     "output_type": "stream",
     "text": [
      "Epoch 1/10\n",
      "19/19 [==============================] - 8s 115ms/step - loss: 2.0728 - accuracy: 0.3230 - val_loss: 2.2958 - val_accuracy: 0.1853\n",
      "Epoch 2/10\n",
      "19/19 [==============================] - 1s 53ms/step - loss: 1.3669 - accuracy: 0.5774 - val_loss: 2.2866 - val_accuracy: 0.1758\n",
      "Epoch 3/10\n",
      "19/19 [==============================] - 1s 51ms/step - loss: 1.0524 - accuracy: 0.6851 - val_loss: 2.2724 - val_accuracy: 0.1904\n",
      "Epoch 4/10\n",
      "19/19 [==============================] - 1s 51ms/step - loss: 0.8691 - accuracy: 0.7462 - val_loss: 2.2524 - val_accuracy: 0.2129\n",
      "Epoch 5/10\n",
      "19/19 [==============================] - 1s 53ms/step - loss: 0.7513 - accuracy: 0.7836 - val_loss: 2.2255 - val_accuracy: 0.2516\n",
      "Epoch 6/10\n",
      "19/19 [==============================] - 1s 52ms/step - loss: 0.6702 - accuracy: 0.8064 - val_loss: 2.1897 - val_accuracy: 0.3160\n",
      "Epoch 7/10\n",
      "19/19 [==============================] - 1s 50ms/step - loss: 0.6089 - accuracy: 0.8251 - val_loss: 2.1437 - val_accuracy: 0.3994\n",
      "Epoch 8/10\n",
      "19/19 [==============================] - 1s 51ms/step - loss: 0.5618 - accuracy: 0.8399 - val_loss: 2.0853 - val_accuracy: 0.4745\n",
      "Epoch 9/10\n",
      "19/19 [==============================] - 1s 54ms/step - loss: 0.5237 - accuracy: 0.8524 - val_loss: 2.0131 - val_accuracy: 0.5722\n",
      "Epoch 10/10\n",
      "19/19 [==============================] - 1s 51ms/step - loss: 0.4919 - accuracy: 0.8608 - val_loss: 1.9260 - val_accuracy: 0.6671\n"
     ]
    },
    {
     "data": {
      "text/plain": [
       "<keras.src.callbacks.History at 0x1870620f3d0>"
      ]
     },
     "execution_count": 26,
     "metadata": {},
     "output_type": "execute_result"
    }
   ],
   "source": [
    "init = tf.keras.initializers.random_normal()\n",
    "activate = 'relu'\n",
    "\n",
    "optimizer = tf.keras.optimizers.SGD(0.01)\n",
    "model_bn = simple_model_bn(init, activate)\n",
    "model_bn.compile(optimizer=optimizer, loss='categorical_crossentropy', metrics=['accuracy'])\n",
    "model_bn.fit(X_train, y_train, epochs=10, batch_size=3200, validation_data = (X_test, y_test))"
   ]
  },
  {
   "cell_type": "code",
   "execution_count": 27,
   "metadata": {},
   "outputs": [
    {
     "name": "stderr",
     "output_type": "stream",
     "text": [
      "c:\\Users\\gabri\\AppData\\Local\\Programs\\Python\\Python311\\Lib\\site-packages\\keras\\src\\initializers\\initializers.py:120: UserWarning: The initializer RandomUniform is unseeded and being called multiple times, which will return identical values each time (even if the initializer is unseeded). Please update your code to provide a seed to the initializer, or avoid using the same initializer instance more than once.\n",
      "  warnings.warn(\n"
     ]
    },
    {
     "name": "stdout",
     "output_type": "stream",
     "text": [
      "Epoch 1/10\n",
      "19/19 [==============================] - 9s 127ms/step - loss: 1.1264 - accuracy: 0.6622 - val_loss: 2.2974 - val_accuracy: 0.3164\n",
      "Epoch 2/10\n",
      "19/19 [==============================] - 1s 55ms/step - loss: 0.5137 - accuracy: 0.8668 - val_loss: 2.2916 - val_accuracy: 0.2139\n",
      "Epoch 3/10\n",
      "19/19 [==============================] - 1s 53ms/step - loss: 0.3836 - accuracy: 0.9002 - val_loss: 2.2847 - val_accuracy: 0.1912\n",
      "Epoch 4/10\n",
      "19/19 [==============================] - 1s 51ms/step - loss: 0.3204 - accuracy: 0.9179 - val_loss: 2.2759 - val_accuracy: 0.2206\n",
      "Epoch 5/10\n",
      "19/19 [==============================] - 1s 53ms/step - loss: 0.2808 - accuracy: 0.9284 - val_loss: 2.2634 - val_accuracy: 0.2484\n",
      "Epoch 6/10\n",
      "19/19 [==============================] - 1s 53ms/step - loss: 0.2519 - accuracy: 0.9362 - val_loss: 2.2470 - val_accuracy: 0.2590\n",
      "Epoch 7/10\n",
      "19/19 [==============================] - 1s 55ms/step - loss: 0.2301 - accuracy: 0.9419 - val_loss: 2.2253 - val_accuracy: 0.2860\n",
      "Epoch 8/10\n",
      "19/19 [==============================] - 1s 51ms/step - loss: 0.2122 - accuracy: 0.9469 - val_loss: 2.1958 - val_accuracy: 0.3327\n",
      "Epoch 9/10\n",
      "19/19 [==============================] - 1s 53ms/step - loss: 0.1979 - accuracy: 0.9505 - val_loss: 2.1577 - val_accuracy: 0.4398\n",
      "Epoch 10/10\n",
      "19/19 [==============================] - 1s 53ms/step - loss: 0.1854 - accuracy: 0.9534 - val_loss: 2.1083 - val_accuracy: 0.5371\n"
     ]
    },
    {
     "data": {
      "text/plain": [
       "<keras.src.callbacks.History at 0x187074c93d0>"
      ]
     },
     "execution_count": 27,
     "metadata": {},
     "output_type": "execute_result"
    }
   ],
   "source": [
    "#Can play with parameters in Adagrad, can use gridsearch\n",
    "init = tf.keras.initializers.random_uniform()\n",
    "activate = 'relu'\n",
    "\n",
    "optimizer = tf.keras.optimizers.Adagrad(learning_rate=0.01)\n",
    "model_bn_ad = simple_model_bn(init, activate)\n",
    "model_bn_ad.compile(optimizer=optimizer, loss='categorical_crossentropy', metrics=['accuracy'])\n",
    "model_bn_ad.fit(X_train, y_train, epochs=10, batch_size=3200, validation_data = (X_test, y_test))"
   ]
  },
  {
   "cell_type": "code",
   "execution_count": 28,
   "metadata": {},
   "outputs": [
    {
     "name": "stdout",
     "output_type": "stream",
     "text": [
      "Epoch 1/10\n",
      "19/19 [==============================] - 13s 117ms/step - loss: 0.8670 - accuracy: 0.7323 - val_loss: 2.0641 - val_accuracy: 0.5398\n",
      "Epoch 2/10\n",
      "19/19 [==============================] - 1s 50ms/step - loss: 0.2543 - accuracy: 0.9254 - val_loss: 1.8397 - val_accuracy: 0.4999\n",
      "Epoch 3/10\n",
      "19/19 [==============================] - 1s 54ms/step - loss: 0.1760 - accuracy: 0.9477 - val_loss: 1.6862 - val_accuracy: 0.5753\n",
      "Epoch 4/10\n",
      "19/19 [==============================] - 1s 54ms/step - loss: 0.1326 - accuracy: 0.9611 - val_loss: 1.5212 - val_accuracy: 0.7617\n",
      "Epoch 5/10\n",
      "19/19 [==============================] - 1s 52ms/step - loss: 0.1098 - accuracy: 0.9674 - val_loss: 1.3474 - val_accuracy: 0.8518\n",
      "Epoch 6/10\n",
      "19/19 [==============================] - 1s 51ms/step - loss: 0.0891 - accuracy: 0.9748 - val_loss: 1.1402 - val_accuracy: 0.9027\n",
      "Epoch 7/10\n",
      "19/19 [==============================] - 1s 53ms/step - loss: 0.0744 - accuracy: 0.9785 - val_loss: 0.9017 - val_accuracy: 0.9263\n",
      "Epoch 8/10\n",
      "19/19 [==============================] - 1s 54ms/step - loss: 0.0640 - accuracy: 0.9820 - val_loss: 0.6876 - val_accuracy: 0.9323\n",
      "Epoch 9/10\n",
      "19/19 [==============================] - 1s 53ms/step - loss: 0.0596 - accuracy: 0.9820 - val_loss: 0.5103 - val_accuracy: 0.9399\n",
      "Epoch 10/10\n",
      "19/19 [==============================] - 1s 51ms/step - loss: 0.0496 - accuracy: 0.9855 - val_loss: 0.4268 - val_accuracy: 0.9349\n"
     ]
    },
    {
     "data": {
      "text/plain": [
       "<keras.src.callbacks.History at 0x187074d13d0>"
      ]
     },
     "execution_count": 28,
     "metadata": {},
     "output_type": "execute_result"
    }
   ],
   "source": [
    "init = tf.keras.initializers.random_uniform()\n",
    "activate = 'relu'\n",
    "\n",
    "optimizer = tf.keras.optimizers.Adam(learning_rate=0.01)\n",
    "model_bn_adam = simple_model_bn(init, activate)\n",
    "model_bn_adam.compile(optimizer=optimizer, loss='categorical_crossentropy', metrics=['accuracy'])\n",
    "model_bn_adam.fit(X_train, y_train, epochs=10, batch_size=3200, validation_data = (X_test, y_test))"
   ]
  },
  {
   "cell_type": "code",
   "execution_count": 29,
   "metadata": {},
   "outputs": [],
   "source": [
    "from tensorflow.keras.callbacks import EarlyStopping"
   ]
  },
  {
   "cell_type": "code",
   "execution_count": 32,
   "metadata": {},
   "outputs": [
    {
     "name": "stdout",
     "output_type": "stream",
     "text": [
      "Epoch 1/10\n",
      "19/19 [==============================] - 4s 35ms/step - loss: 0.7823 - accuracy: 0.7575 - val_loss: 2.0310 - val_accuracy: 0.3679\n",
      "Epoch 2/10\n",
      "19/19 [==============================] - 0s 15ms/step - loss: 0.2492 - accuracy: 0.9264 - val_loss: 1.7926 - val_accuracy: 0.5003\n",
      "Epoch 3/10\n",
      "19/19 [==============================] - 0s 14ms/step - loss: 0.1756 - accuracy: 0.9476 - val_loss: 1.6383 - val_accuracy: 0.5827\n",
      "Epoch 4/10\n",
      "19/19 [==============================] - 0s 14ms/step - loss: 0.1362 - accuracy: 0.9595 - val_loss: 1.4709 - val_accuracy: 0.6884\n",
      "Epoch 5/10\n",
      "19/19 [==============================] - 0s 13ms/step - loss: 0.1089 - accuracy: 0.9683 - val_loss: 1.3070 - val_accuracy: 0.8031\n",
      "Epoch 6/10\n",
      "19/19 [==============================] - 0s 12ms/step - loss: 0.0889 - accuracy: 0.9736 - val_loss: 1.1279 - val_accuracy: 0.8456\n",
      "Epoch 7/10\n",
      "19/19 [==============================] - 0s 13ms/step - loss: 0.0783 - accuracy: 0.9771 - val_loss: 0.9511 - val_accuracy: 0.8688\n",
      "Epoch 8/10\n",
      "19/19 [==============================] - 0s 15ms/step - loss: 0.0675 - accuracy: 0.9791 - val_loss: 0.7109 - val_accuracy: 0.9120\n",
      "Epoch 9/10\n",
      "19/19 [==============================] - 0s 14ms/step - loss: 0.0612 - accuracy: 0.9812 - val_loss: 0.5585 - val_accuracy: 0.9174\n",
      "Epoch 10/10\n",
      "19/19 [==============================] - 0s 15ms/step - loss: 0.0531 - accuracy: 0.9843 - val_loss: 0.4190 - val_accuracy: 0.9267\n",
      "Train Acc: 0.9513499736785889 Test Acc: 0.9266999959945679\n"
     ]
    }
   ],
   "source": [
    "init = tf.keras.initializers.random_uniform()\n",
    "activate = 'relu'\n",
    "\n",
    "optimizer = tf.keras.optimizers.Adam(learning_rate=0.01)\n",
    "model_bn_adam = simple_model_bn(init, activate)\n",
    "model_bn_adam.compile(optimizer=optimizer, loss='categorical_crossentropy', metrics=['accuracy'])\n",
    "\n",
    "es = EarlyStopping(monitor='val_loss', mode='min', patience=10, restore_best_weights=True, verbose=1)\n",
    "\n",
    "history = model_bn_adam.fit(X_train, y_train, epochs=10, batch_size=3200, validation_data = (X_test, y_test))\n",
    "\n",
    "_, train_acc = model_bn_adam.evaluate(X_train, y_train, verbose=0)\n",
    "_, test_acc = model_bn_adam.evaluate(X_test, y_test, verbose=0)\n",
    "print('Train Acc:', train_acc, 'Test Acc:', test_acc)"
   ]
  },
  {
   "cell_type": "code",
   "execution_count": 33,
   "metadata": {},
   "outputs": [
    {
     "name": "stdout",
     "output_type": "stream",
     "text": [
      "Restoring model weights from the end of the best epoch: 12.\n",
      "Epoch 22: early stopping\n",
      "Train Acc: 0.9898166656494141 Test Acc: 0.9693999886512756\n"
     ]
    }
   ],
   "source": [
    "init = tf.keras.initializers.random_uniform()\n",
    "activate = 'relu'\n",
    "\n",
    "optimizer = tf.keras.optimizers.Adam(learning_rate=0.01)\n",
    "model_bn_adam = simple_model_bn(init, activate)\n",
    "model_bn_adam.compile(optimizer=optimizer, loss='categorical_crossentropy', metrics=['accuracy'])\n",
    "\n",
    "es = EarlyStopping(monitor='val_loss', mode='min', patience=10, restore_best_weights=True, verbose=1)\n",
    "\n",
    "history = model_bn_adam.fit(X_train, y_train, epochs=2000, callbacks=[es], validation_data = (X_test, y_test), verbose=0)\n",
    "\n",
    "_, train_acc = model_bn_adam.evaluate(X_train, y_train, verbose=0)\n",
    "_, test_acc = model_bn_adam.evaluate(X_test, y_test, verbose=0)\n",
    "print('Train Acc:', train_acc, 'Test Acc:', test_acc)"
   ]
  },
  {
   "cell_type": "code",
   "execution_count": null,
   "metadata": {},
   "outputs": [],
   "source": []
  }
 ],
 "metadata": {
  "kernelspec": {
   "display_name": "Python 3",
   "language": "python",
   "name": "python3"
  },
  "language_info": {
   "codemirror_mode": {
    "name": "ipython",
    "version": 3
   },
   "file_extension": ".py",
   "mimetype": "text/x-python",
   "name": "python",
   "nbconvert_exporter": "python",
   "pygments_lexer": "ipython3",
   "version": "3.11.3"
  }
 },
 "nbformat": 4,
 "nbformat_minor": 2
}
